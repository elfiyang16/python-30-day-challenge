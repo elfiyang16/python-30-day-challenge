{
 "cells": [
  {
   "cell_type": "code",
   "execution_count": 1,
   "metadata": {},
   "outputs": [],
   "source": [
    "from pathlib import Path\n",
    "import re\n",
    "import requests\n",
    "import time\n",
    "import datetime\n",
    "\n",
    "import pandas as pd\n",
    "from requests_html import HTML\n",
    "from selenium import webdriver\n",
    "from selenium.webdriver.chrome.options import Options"
   ]
  },
  {
   "cell_type": "code",
   "execution_count": 2,
   "metadata": {},
   "outputs": [],
   "source": [
    "BASE_DIR = Path.cwd()\n",
    "DATA_DIR = BASE_DIR / \"data\" # os.path.join(BASE_DIR, 'data')\n",
    "if not DATA_DIR.exists(): # os.path.exists(DATA_DIR)\n",
    "    DATA_DIR.mkdir(exist_ok=True) # os.makedirs(DATA_DIR, exist_ok=True)\n",
    "    \n",
    "product_category_links_output = DATA_DIR / \"category-products.csv\"\n",
    "product_output = DATA_DIR / \"products.csv\""
   ]
  },
  {
   "cell_type": "code",
   "execution_count": 3,
   "metadata": {},
   "outputs": [],
   "source": [
    "options = Options()\n",
    "options.add_argument(\"--headless\")\n",
    "\n",
    "driver = webdriver.Chrome(options=options)"
   ]
  },
  {
   "cell_type": "code",
   "execution_count": 4,
   "metadata": {},
   "outputs": [],
   "source": [
    "categories = [\n",
    "    {\"name\": \"toys-and-games\", \"url\": \"https://www.amazon.com/Best-Sellers-Toys-Games/zgbs/toys-and-games/\"},\n",
    "    {\"name\": \"electronics\", \"url\": \"https://www.amazon.com/Best-Sellers-Electronics/zgbs/electronics/\"},\n",
    "    {\"name\": \"fashion\", \"url\": \"https://www.amazon.com/Best-Sellers/zgbs/fashion/\"}\n",
    "]"
   ]
  },
  {
   "cell_type": "code",
   "execution_count": 5,
   "metadata": {},
   "outputs": [],
   "source": [
    "regex_options = [\n",
    "    r\"https://www.amazon.com/gp/product/(?P<product_id>[\\w-]+)/\",\n",
    "    r\"https://www.amazon.com/dp/(?P<product_id>[\\w-]+)/\",\n",
    "    r\"https://www.amazon.com/(?P<slug>[\\w-]+)/dp/(?P<product_id>[\\w-]+)/\",\n",
    "]\n",
    "\n",
    "def extract_product_id_from_url(url):\n",
    "    product_id = None\n",
    "    for regex_str in regex_options:\n",
    "        regex = re.compile(regex_str)\n",
    "        match = regex.match(url)\n",
    "        if match != None:\n",
    "            try:\n",
    "                product_id = match['product_id']\n",
    "            except:\n",
    "                pass\n",
    "    return product_id"
   ]
  },
  {
   "cell_type": "code",
   "execution_count": 6,
   "metadata": {},
   "outputs": [],
   "source": [
    "def clean_page_links(page_links=[], category=None):\n",
    "    final_page_links = []\n",
    "    for url in page_links:\n",
    "        product_id = extract_product_id_from_url(url)\n",
    "        if product_id != None:\n",
    "            final_page_links.append({\"url\": url, \"product_id\": product_id, \"category\": category})\n",
    "    return final_page_links"
   ]
  },
  {
   "cell_type": "code",
   "execution_count": 7,
   "metadata": {},
   "outputs": [],
   "source": [
    "def scrace_category_product_links(categories=[]):\n",
    "    all_product_links = []\n",
    "    for category in categories:\n",
    "        time.sleep(1.5)\n",
    "        url = category.get(\"url\")\n",
    "        driver.get(url)\n",
    "        body_el = driver.find_element_by_css_selector(\"body\")\n",
    "        html_str = body_el.get_attribute(\"innerHTML\")\n",
    "        html_obj = HTML(html=html_str)\n",
    "        page_links = [f\"https://www.amazon.com{x}\" for x in html_obj.links if x.startswith(\"/\")]\n",
    "        cleaned_links = clean_page_links(page_links=page_links, category=category)\n",
    "        all_product_links += cleaned_links\n",
    "    return all_product_links"
   ]
  },
  {
   "cell_type": "code",
   "execution_count": 8,
   "metadata": {},
   "outputs": [],
   "source": [
    "def extract_categories_and_save(categories=[]):\n",
    "    all_product_links = scrace_category_product_links(categories)\n",
    "    category_df = pd.DataFrame(all_product_links)\n",
    "    category_df.to_csv(product_category_links_output, index=False)"
   ]
  },
  {
   "cell_type": "code",
   "execution_count": 9,
   "metadata": {},
   "outputs": [],
   "source": [
    "extract_categories_and_save(categories=categories)"
   ]
  },
  {
   "cell_type": "code",
   "execution_count": 10,
   "metadata": {},
   "outputs": [],
   "source": [
    "def scrape_product_page(url, title_lookup = \"#productTitle\", price_lookup = \"#priceblock_ourprice\"):\n",
    "    driver.get(url)\n",
    "    time.sleep(1.5)\n",
    "    body_el = driver.find_element_by_css_selector(\"body\")\n",
    "    html_str = body_el.get_attribute(\"innerHTML\")\n",
    "    html_obj = HTML(html=html_str)\n",
    "    product_title = html_obj.find(title_lookup, first=True).text\n",
    "    product_price = html_obj.find(price_lookup, first=True).text\n",
    "    return product_title, product_price"
   ]
  },
  {
   "cell_type": "code",
   "execution_count": 11,
   "metadata": {},
   "outputs": [],
   "source": [
    "def perform_scrape(cleaned_items=[]):\n",
    "    data_extracted = []\n",
    "    for obj in cleaned_items:\n",
    "        link = obj['url']\n",
    "        product_id = obj['product_id']\n",
    "        title, price = (None, None)\n",
    "        try:\n",
    "            title, price = scrape_product_page(link)\n",
    "        except:\n",
    "            pass\n",
    "        if title != None and price != None:\n",
    "            print(link, title, price)\n",
    "        product_data = {\n",
    "            \"url\": link,\n",
    "            \"product_id\": product_id,\n",
    "            \"title\": title,\n",
    "            \"price\": price\n",
    "        }\n",
    "        data_extracted.append(product_data)\n",
    "    return data_extracted"
   ]
  },
  {
   "cell_type": "code",
   "execution_count": 12,
   "metadata": {},
   "outputs": [],
   "source": [
    "def row_scrape_event(row, *args, **kwargs):\n",
    "    link = row['url']\n",
    "    scraped = 0\n",
    "    try:\n",
    "        scraped = row['scraped']\n",
    "    except:\n",
    "        pass\n",
    "    # print(link)\n",
    "    if scraped == 1 or scraped == \"1\":\n",
    "        print(\"skipped\")\n",
    "        return row\n",
    "    product_id = row['product_id']\n",
    "    title, price = (None, None)\n",
    "    try:\n",
    "        title, price = scrape_product_page(link)\n",
    "    except:\n",
    "        pass\n",
    "    row['title'] = title\n",
    "    row['price'] = price\n",
    "    row['scraped'] = 1\n",
    "    row['timestamp'] = datetime.datetime.now().timestamp()\n",
    "    print(link, title, price)\n",
    "    return row"
   ]
  },
  {
   "cell_type": "code",
   "execution_count": 13,
   "metadata": {},
   "outputs": [
    {
     "data": {
      "text/html": [
       "<div>\n",
       "<style scoped>\n",
       "    .dataframe tbody tr th:only-of-type {\n",
       "        vertical-align: middle;\n",
       "    }\n",
       "\n",
       "    .dataframe tbody tr th {\n",
       "        vertical-align: top;\n",
       "    }\n",
       "\n",
       "    .dataframe thead th {\n",
       "        text-align: right;\n",
       "    }\n",
       "</style>\n",
       "<table border=\"1\" class=\"dataframe\">\n",
       "  <thead>\n",
       "    <tr style=\"text-align: right;\">\n",
       "      <th></th>\n",
       "      <th>url</th>\n",
       "      <th>product_id</th>\n",
       "      <th>category</th>\n",
       "    </tr>\n",
       "  </thead>\n",
       "  <tbody>\n",
       "    <tr>\n",
       "      <th>0</th>\n",
       "      <td>https://www.amazon.com/Throw-Burrito-Dodgeball...</td>\n",
       "      <td>B07TS96J7Q</td>\n",
       "      <td>{'name': 'toys-and-games', 'url': 'https://www...</td>\n",
       "    </tr>\n",
       "    <tr>\n",
       "      <th>1</th>\n",
       "      <td>https://www.amazon.com/Disney-Pixar-Story-Alie...</td>\n",
       "      <td>B07HD27YZT</td>\n",
       "      <td>{'name': 'toys-and-games', 'url': 'https://www...</td>\n",
       "    </tr>\n",
       "    <tr>\n",
       "      <th>2</th>\n",
       "      <td>https://www.amazon.com/Paw-Patrol-Cruiser-Vehi...</td>\n",
       "      <td>B07PTSZ43T</td>\n",
       "      <td>{'name': 'toys-and-games', 'url': 'https://www...</td>\n",
       "    </tr>\n",
       "    <tr>\n",
       "      <th>3</th>\n",
       "      <td>https://www.amazon.com/Flybar-Jumper-Toddlers-...</td>\n",
       "      <td>B00WTDXSDM</td>\n",
       "      <td>{'name': 'toys-and-games', 'url': 'https://www...</td>\n",
       "    </tr>\n",
       "    <tr>\n",
       "      <th>4</th>\n",
       "      <td>https://www.amazon.com/Pacon-PAC6555-Lightweig...</td>\n",
       "      <td>B0013CDJTS</td>\n",
       "      <td>{'name': 'toys-and-games', 'url': 'https://www...</td>\n",
       "    </tr>\n",
       "  </tbody>\n",
       "</table>\n",
       "</div>"
      ],
      "text/plain": [
       "                                                 url  product_id  \\\n",
       "0  https://www.amazon.com/Throw-Burrito-Dodgeball...  B07TS96J7Q   \n",
       "1  https://www.amazon.com/Disney-Pixar-Story-Alie...  B07HD27YZT   \n",
       "2  https://www.amazon.com/Paw-Patrol-Cruiser-Vehi...  B07PTSZ43T   \n",
       "3  https://www.amazon.com/Flybar-Jumper-Toddlers-...  B00WTDXSDM   \n",
       "4  https://www.amazon.com/Pacon-PAC6555-Lightweig...  B0013CDJTS   \n",
       "\n",
       "                                            category  \n",
       "0  {'name': 'toys-and-games', 'url': 'https://www...  \n",
       "1  {'name': 'toys-and-games', 'url': 'https://www...  \n",
       "2  {'name': 'toys-and-games', 'url': 'https://www...  \n",
       "3  {'name': 'toys-and-games', 'url': 'https://www...  \n",
       "4  {'name': 'toys-and-games', 'url': 'https://www...  "
      ]
     },
     "execution_count": 13,
     "metadata": {},
     "output_type": "execute_result"
    }
   ],
   "source": [
    "df = pd.read_csv(product_category_links_output)\n",
    "df.head()"
   ]
  },
  {
   "cell_type": "code",
   "execution_count": 15,
   "metadata": {},
   "outputs": [],
   "source": [
    "df_sub = df.copy() # df.head(n=10)"
   ]
  },
  {
   "cell_type": "code",
   "execution_count": 16,
   "metadata": {},
   "outputs": [
    {
     "name": "stdout",
     "output_type": "stream",
     "text": [
      "https://www.amazon.com/Throw-Burrito-Dodgeball-Exploding-Kittens/dp/B07TS96J7Q/ref=zg_bs_toys-and-games_46/130-1176424-8487930?_encoding=UTF8&psc=1&refRID=95PB7KCZPW5HP194TFCW Throw Throw Burrito by Exploding Kittens - A Dodgeball Card Game - Family-Friendly Party Games - Card Games for Adults, Teens & Kids $19.99\n",
      "https://www.amazon.com/Disney-Pixar-Story-Aliens-Figure/dp/B07HD27YZT/ref=zg_bs_toys-and-games_42/130-1176424-8487930?_encoding=UTF8&psc=1&refRID=95PB7KCZPW5HP194TFCW Disney Pixar Toy Story Space Aliens Figures $12.00\n",
      "https://www.amazon.com/Paw-Patrol-Cruiser-Vehicle-Collectible/dp/B07PTSZ43T/ref=zg_bs_toys-and-games_25/130-1176424-8487930?_encoding=UTF8&psc=1&refRID=95PB7KCZPW5HP194TFCW Paw Patrol, Chase’s Patrol Cruiser Vehicle with Collectible Figure, for Kids Aged 3 and Up $9.99\n",
      "https://www.amazon.com/Flybar-Jumper-Toddlers-Durable-Supports/dp/B00WTDXSDM/ref=zg_bs_toys-and-games_33/130-1176424-8487930?_encoding=UTF8&psc=1&refRID=95PB7KCZPW5HP194TFCW Flybar My First Foam Pogo Jumper for Kids Fun and Safe Pogo Stick, Durable Foam and Bungee Jumper for Ages 3 and up Toddler Toys, Supports up to 250lbs (Blue) $16.99\n",
      "https://www.amazon.com/Pacon-PAC6555-Lightweight-Construction-Assorted/dp/B0013CDJTS/ref=zg_bs_toys-and-games_5/130-1176424-8487930?_encoding=UTF8&psc=1&refRID=95PB7KCZPW5HP194TFCW Art Street Lightweight Construction Paper, 10 Assorted Colors, 9\" x 12\", 500 Sheets $11.89\n",
      "https://www.amazon.com/Belcol-Reusable-Bandanas-Breathable-Seamless/dp/B08D63KQX4/ref=zg_bs_toys-and-games_36/130-1176424-8487930?_encoding=UTF8&psc=1&refRID=95PB7KCZPW5HP194TFCW None None\n",
      "https://www.amazon.com/Crayola-TRTAZ11A-Washable-Watercolors-Pack/dp/B012XH7MHG/ref=zg_bs_toys-and-games_6/130-1176424-8487930?_encoding=UTF8&psc=1&refRID=95PB7KCZPW5HP194TFCW None None\n",
      "https://www.amazon.com/Cards-Against-Humanity-LLC-CAHUS/dp/B004S8F7QM/ref=zg_bs_toys-and-games_27/130-1176424-8487930?_encoding=UTF8&psc=1&refRID=95PB7KCZPW5HP194TFCW Cards Against Humanity $25.00\n",
      "https://www.amazon.com/VTech-Sit-to-Stand-Learning-Walker-Blue/dp/B07CRSXMW8/ref=zg_bs_toys-and-games_11/130-1176424-8487930?_encoding=UTF8&psc=1&refRID=95PB7KCZPW5HP194TFCW VTech Sit-To-Stand Learning Walker (Frustration Free Packaging), Blue $33.93\n",
      "https://www.amazon.com/Play-Doh-Modeling-Compound-Non-Toxic-Exclusive/dp/B00JM5GW10/ref=zg_bs_toys-and-games_4/130-1176424-8487930?_encoding=UTF8&psc=1&refRID=95PB7KCZPW5HP194TFCW Play-Doh Modeling Compound 10 Pack Case of Colors, Non-Toxic, Assorted Colors, 2 Oz Cans, Ages 2 & Up, (Amazon Exclusive), Multicolor $7.99\n",
      "https://www.amazon.com/Funko-Pop-Disney-Caboose-Exclusive/dp/B08B7594TW/ref=zg_bs_toys-and-games_2/130-1176424-8487930?_encoding=UTF8&psc=1&refRID=95PB7KCZPW5HP194TFCW Funko Pop! Disney: Casey Jr Train Ride - Minnie in Caboose Car, Amazon Exclusive $10.99\n",
      "https://www.amazon.com/Play-Doh-Modeling-Compound-24-Pack-Exclusive/dp/B009CAPYR8/ref=zg_bs_toys-and-games_14/130-1176424-8487930?_encoding=UTF8&psc=1&refRID=95PB7KCZPW5HP194TFCW Play-Doh Modeling Compound 24-Pack Case of Colors, Non-Toxic, Multi-Color, 3-Ounce Cans, Ages 2 and up, Multicolor (Amazon Exclusive) $20.99\n",
      "https://www.amazon.com/Crayola-Ultra-Clean-Washable-Non-Toxic-Classrooms/dp/B013RQPB5C/ref=zg_bs_toys-and-games_21/130-1176424-8487930?_encoding=UTF8&psc=1&refRID=95PB7KCZPW5HP194TFCW None None\n",
      "https://www.amazon.com/ThinkFun-Zingo-Winning-Pre-Readers-Readers/dp/B01DY818JG/ref=zg_bs_toys-and-games_23/130-1176424-8487930?_encoding=UTF8&psc=1&refRID=95PB7KCZPW5HP194TFCW ThinkFun Zingo Bingo Award Winning Preschool Game for Pre-Readers and Early Readers Age 4 and Up - One of the Most Popular Board Games for Boys and Girls and their Parents, Amazon Exclusive Version $19.99\n",
      "https://www.amazon.com/L-L-Surprise-All-Star-Surprises/dp/B085B22DY6/ref=zg_bs_toys-and-games_50/130-1176424-8487930?_encoding=UTF8&psc=1&refRID=95PB7KCZPW5HP194TFCW L.O.L. Surprise All-Star B.B.s Sports Series 1 Baseball Sparkly Dolls with 8 Surprises $9.99\n",
      "https://www.amazon.com/Fisher-Price-Rattle-Rock-Maracas-Orange/dp/B071FLSWBS/ref=zg_bs_toys-and-games_32/130-1176424-8487930?_encoding=UTF8&psc=1&refRID=95PB7KCZPW5HP194TFCW Fisher-Price Rattle 'n Rock Maracas, Blue/Orange [Amazon Exclusive] $6.99\n",
      "https://www.amazon.com/First-Princess-Make-Kit-Everything/dp/B07FPWYY79/ref=zg_bs_toys-and-games_31/130-1176424-8487930?_encoding=UTF8&psc=1&refRID=95PB7KCZPW5HP194TFCW None None\n",
      "https://www.amazon.com/Bentgo-Kids-Prints-Camouflage-5-Compartment/dp/B07R2CNSTK/ref=zg_bs_toys-and-games_13/130-1176424-8487930?_encoding=UTF8&psc=1&refRID=95PB7KCZPW5HP194TFCW Bentgo Kids Prints (Camouflage) - Leak-Proof, 5-Compartment Bento-Style Kids Lunch Box - Ideal Portion Sizes for Ages 3 to 7 - BPA-Free and Food-Safe Materials $27.99\n",
      "https://www.amazon.com/Long-Lasting-Pre-Sharpened-Non-Toxic-Coloring-Gradation/dp/B0816T2XKL/ref=zg_bs_toys-and-games_26/130-1176424-8487930?_encoding=UTF8&psc=1&refRID=95PB7KCZPW5HP194TFCW Colored Pencils, 36 Premium Quality, Long-Lasting, Pre-Sharpened Pencils Non-Toxic Colored Pencil Set For Adult Coloring Books or Kids 4 & Up, Great For Shading, Gradation, Line Art & More (2 Pack) $17.33\n",
      "https://www.amazon.com/Regal-Games-Chalk-City-Washable/dp/B071CKSMS7/ref=zg_bs_toys-and-games_8/130-1176424-8487930?_encoding=UTF8&psc=1&refRID=95PB7KCZPW5HP194TFCW None None\n",
      "https://www.amazon.com/Nuby-Floating-Purple-Octopus-Interactive/dp/B083ZZSGLR/ref=zg_bs_toys-and-games_20/130-1176424-8487930?_encoding=UTF8&psc=1&refRID=95PB7KCZPW5HP194TFCW Nuby Floating Purple Octopus with 3 Hoopla Rings Interactive Bath Toy $6.88\n",
      "https://www.amazon.com/Bicycle-Jumbo-Playing-Cards-Pack/dp/B000050MFY/ref=zg_bs_toys-and-games_37/130-1176424-8487930?_encoding=UTF8&psc=1&refRID=95PB7KCZPW5HP194TFCW Bicycle Playing Cards $2.97\n",
      "https://www.amazon.com/Wonder-memoria-Disney-Frozen-Classic/dp/B007DW6F34/ref=zg_bs_toys-and-games_16/130-1176424-8487930?_encoding=UTF8&psc=1&refRID=95PB7KCZPW5HP194TFCW Wonder Forge Disney Classic Characters Matching Game for Boys & Girls Age 3 to 5 - A Fun & Fast Disney Memory Game $5.92\n",
      "https://www.amazon.com/LEGO-Star-Wars-Mandalorian-Exclusive/dp/B0849GZMZH/ref=zg_bs_toys-and-games_9/130-1176424-8487930?_encoding=UTF8&psc=1&refRID=95PB7KCZPW5HP194TFCW None None\n",
      "https://www.amazon.com/Funko-Pop-Ride-Disney-Matterhorn/dp/B08GQDC4P8/ref=zg_bs_toys-and-games_40/130-1176424-8487930?_encoding=UTF8&psc=1&refRID=95PB7KCZPW5HP194TFCW Funko Pop! Ride: Disney 65th - Donald with Matterhorn $29.99\n",
      "https://www.amazon.com/Play-Doh-Modeling-Compound-Non-Toxic-Exclusive/dp/B00JM5GZGW/ref=zg_bs_toys-and-games_30/130-1176424-8487930?_encoding=UTF8&psc=1&refRID=95PB7KCZPW5HP194TFCW Play-Doh Modeling Compound 36-Pack Case of Colors, Non-Toxic, Assorted Colors, 3-Ounce Cans (Amazon Exclusive) $24.99\n",
      "https://www.amazon.com/Fashion-Angels-Design-Compact-Portfolio/dp/B08486GNQ3/ref=zg_bs_toys-and-games_39/130-1176424-8487930?_encoding=UTF8&psc=1&refRID=95PB7KCZPW5HP194TFCW Fashion Angels Fashion Design Compact Sketch Portfolio (12213) $6.99\n",
      "https://www.amazon.com/RUBFAC-Assorted-Balloons-Decoration-Birthday/dp/B07WGXTKGY/ref=zg_bs_toys-and-games_48/130-1176424-8487930?_encoding=UTF8&psc=1&refRID=95PB7KCZPW5HP194TFCW None None\n",
      "https://www.amazon.com/Aqua-AZL17000-Monterey-Hammock-Multicolor/dp/B07G93WJP5/ref=zg_bs_toys-and-games_10/130-1176424-8487930?_encoding=UTF8&psc=1&refRID=95PB7KCZPW5HP194TFCW AQUA 4-in-1 Monterey Hammock Inflatable Pool Float, Multi-Purpose Pool Hammock (Saddle, Lounge Chair, Hammock, Drifter) Pool Chair, Portable Water Hammock, Burgundy/White Stripe $14.42\n",
      "https://www.amazon.com/Disney-51394-Ariel-Necklace-Set/dp/B00BTX5926/ref=zg_bs_toys-and-games_1/130-1176424-8487930?_encoding=UTF8&psc=1&refRID=95PB7KCZPW5HP194TFCW Tara Toys Kindi Kids Necklace Activity Set $12.99\n",
      "https://www.amazon.com/Crayola-Adult-Face-Mask-Reusable/dp/B08B2J4J46/ref=zg_bs_toys-and-games_43/130-1176424-8487930?_encoding=UTF8&psc=1&refRID=95PB7KCZPW5HP194TFCW None None\n",
      "https://www.amazon.com/ThinkFun-Circuit-Electric-Current-Logic/dp/B01BX4G6FY/ref=zg_bs_toys-and-games_49/130-1176424-8487930?_encoding=UTF8&psc=1&refRID=95PB7KCZPW5HP194TFCW ThinkFun Circuit Maze Electric Current Brain Game and STEM Toy for Boys and Girls Age 8 and Up - Toy of the Year Finalist, Teaches Players about Circuitry through Fun Gameplay $29.49\n"
     ]
    },
    {
     "name": "stdout",
     "output_type": "stream",
     "text": [
      "https://www.amazon.com/Crayola-Colored-Pre-sharpened-Coloring-Stocking/dp/B018HB2QFU/ref=zg_bs_toys-and-games_34/130-1176424-8487930?_encoding=UTF8&psc=1&refRID=95PB7KCZPW5HP194TFCW None None\n",
      "https://www.amazon.com/Sassy-Stacks-Circles-Stacking-Learning/dp/B07NXDJ52C/ref=zg_bs_toys-and-games_29/130-1176424-8487930?_encoding=UTF8&psc=1&refRID=95PB7KCZPW5HP194TFCW Sassy Stacks of Circles Stacking Ring STEM Learning Toy, 9 Piece Set, Age 6+ Months $8.99\n",
      "https://www.amazon.com/First-Years-Stack-Up-Cups/dp/B00005C5H4/ref=zg_bs_toys-and-games_7/130-1176424-8487930?_encoding=UTF8&psc=1&refRID=95PB7KCZPW5HP194TFCW The First Years Stack Up Cup Toys $3.99\n",
      "https://www.amazon.com/Mattel-Games-Official-Amazon-Exclusive/dp/B07P6MZPK3/ref=zg_bs_toys-and-games_22/130-1176424-8487930?_encoding=UTF8&psc=1&refRID=95PB7KCZPW5HP194TFCW Mattel Games UNO $9.99\n",
      "https://www.amazon.com/SunWorks-Construction-Paper-Black-Sheets/dp/B002LARR7Q/ref=zg_bs_toys-and-games_12/130-1176424-8487930?_encoding=UTF8&psc=1&refRID=95PB7KCZPW5HP194TFCW SunWorks Heavyweight Construction Paper, 9 x 12 Inches, Black, 100 Sheets $3.69\n",
      "https://www.amazon.com/LeapFrog-80-609540-100-Animals-Book/dp/B085KTQKNC/ref=zg_bs_toys-and-games_3/130-1176424-8487930?_encoding=UTF8&psc=1&refRID=95PB7KCZPW5HP194TFCW LeapFrog 100 Animals Book $13.49\n",
      "https://www.amazon.com/Crayola-Shark-Coloring-Pages-Wonder/dp/B07PMLL5L7/ref=zg_bs_toys-and-games_15/130-1176424-8487930?_encoding=UTF8&psc=1&refRID=95PB7KCZPW5HP194TFCW None None\n",
      "https://www.amazon.com/Crayola-Washable-Assorted-Colors-Bottle/dp/B013GA002S/ref=zg_bs_toys-and-games_38/130-1176424-8487930?_encoding=UTF8&psc=1&refRID=95PB7KCZPW5HP194TFCW None None\n",
      "https://www.amazon.com/SAVITA-Stickers-Scrapbooking-Including-Dinosaurs/dp/B07HT9Y48V/ref=zg_bs_toys-and-games_41/130-1176424-8487930?_encoding=UTF8&psc=1&refRID=95PB7KCZPW5HP194TFCW None None\n",
      "https://www.amazon.com/L-L-Surprise-Surprises-Including/dp/B07XSPCBVP/ref=zg_bs_toys-and-games_18/130-1176424-8487930?_encoding=UTF8&psc=1&refRID=95PB7KCZPW5HP194TFCW L.O.L. Surprise! Lights Glitter Doll with 8 Surprises Including Black Light Surprises $9.57\n",
      "https://www.amazon.com/Exploding-Kittens-LLC-EKG-ORG1-1-Card/dp/B010TQY7A8/ref=zg_bs_toys-and-games_17/130-1176424-8487930?_encoding=UTF8&psc=1&refRID=95PB7KCZPW5HP194TFCW None None\n",
      "https://www.amazon.com/Crayola-Scents-Washable-Scented-Markers/dp/B0727KVNGV/ref=zg_bs_toys-and-games_47/130-1176424-8487930?_encoding=UTF8&psc=1&refRID=95PB7KCZPW5HP194TFCW None None\n",
      "https://www.amazon.com/DIY-Slime-Kit-Girls-Boys/dp/B07L8RZC3C/ref=zg_bs_toys-and-games_35/130-1176424-8487930?_encoding=UTF8&psc=1&refRID=95PB7KCZPW5HP194TFCW None None\n",
      "https://www.amazon.com/Jenga-A2120EU4-Classic-Game/dp/B00ABA0ZOA/ref=zg_bs_toys-and-games_24/130-1176424-8487930?_encoding=UTF8&psc=1&refRID=95PB7KCZPW5HP194TFCW None None\n",
      "https://www.amazon.com/Learning-Resources-Mathlink-Educational-Counting/dp/B000URL296/ref=zg_bs_toys-and-games_19/130-1176424-8487930?_encoding=UTF8&psc=1&refRID=95PB7KCZPW5HP194TFCW Learning Resources MathLink Cubes, Homeschool, Educational Counting Toy, Math Cubes, Linking Cubes, Early Math Skills, Math Manipulatives, Set of 100 Cubes, Ages 5+ $13.72\n",
      "https://www.amazon.com/Crayola-24-Count-Crayons-6-Pack/dp/B00LK0NFMY/ref=zg_bs_toys-and-games_45/130-1176424-8487930?_encoding=UTF8&psc=1&refRID=95PB7KCZPW5HP194TFCW Crayola Crayons, School & Art Supplies, Bulk 6 Pack of 24Count, Assorted $12.22\n",
      "https://www.amazon.com/200-pelotas-albercas-brillantes-almacenamiento-reutilizable/dp/B00PYLU3GG/ref=zg_bs_toys-and-games_44/130-1176424-8487930?_encoding=UTF8&psc=1&refRID=95PB7KCZPW5HP194TFCW Click N' Play Pack of 200 Phthalate Free BPA Free Crush Proof Plastic Ball, Pit Balls - 6 Bright Colors in Reusable and Durable Storage Mesh Bag with Zipper $27.79\n",
      "https://www.amazon.com/First-Years-Disney-Mickey-Squirt/dp/B06Y1G2MH9/ref=zg_bs_toys-and-games_28/130-1176424-8487930?_encoding=UTF8&psc=1&refRID=95PB7KCZPW5HP194TFCW The First Years Disney Baby Bathtime Squirt Toys, Mickey Mouse $4.59\n",
      "https://www.amazon.com/Acer-SB220Q-Ultra-Thin-Frame-Monitor/dp/B07CVL2D2S/ref=zg_bs_electronics_24?_encoding=UTF8&psc=1&refRID=PPBEXGXKST3134BKXST7 Acer SB220Q bi 21.5 Inches Full HD (1920 x 1080) IPS Ultra-Thin Zero Frame Monitor (HDMI & VGA port),Black $89.99\n",
      "https://www.amazon.com/Kindle-Paperwhite-Waterproof-Unlimited-auto-renewal/dp/B07PP49ZDW/ref=zg_bs_electronics_16?_encoding=UTF8&psc=1&refRID=PPBEXGXKST3134BKXST7 Kindle Paperwhite – Now Waterproof with more than 2x the Storage – Ad-Supported + Kindle Unlimited (with auto-renewal) $159.99\n",
      "https://www.amazon.com/All-new-Ring-Alarm-14-piece-kit/dp/B084YCCX7X/ref=zg_bs_electronics_49?_encoding=UTF8&psc=1&refRID=PPBEXGXKST3134BKXST7 None None\n",
      "https://www.amazon.com/Fire-Tablet-7/dp/B07FKR6KXF/ref=zg_bs_electronics_9?_encoding=UTF8&psc=1&refRID=PPBEXGXKST3134BKXST7 Fire 7 Tablet (7\" display, 16 GB) - Black $49.99\n",
      "https://www.amazon.com/Fire-TV-Stick-4K-with-Alexa-Voice-Remote/dp/B079QHML21/ref=zg_bs_electronics_2?_encoding=UTF8&psc=1&refRID=PPBEXGXKST3134BKXST7 None None\n",
      "https://www.amazon.com/TCL-50S425-inch-Smart-Roku/dp/B07JK98NNQ/ref=zg_bs_electronics_34?_encoding=UTF8&psc=1&refRID=PPBEXGXKST3134BKXST7 None None\n",
      "https://www.amazon.com/Fire-7-Kids-Edition-Tablet/dp/B07H8WS1FT/ref=zg_bs_electronics_38?_encoding=UTF8&psc=1&refRID=PPBEXGXKST3134BKXST7 Fire 7 Kids Edition Tablet, 7\" Display, 16 GB, Blue Kid-Proof Case $99.99\n",
      "https://www.amazon.com/All-New-Fire-HD-8-Tablet/dp/B07TMJ1R3X/ref=zg_bs_electronics_4?_encoding=UTF8&psc=1&refRID=PPBEXGXKST3134BKXST7 All-new Fire HD 8 tablet, 8\" HD display, 32 GB, designed for portable entertainment, Black $89.99\n",
      "https://www.amazon.com/Ring-Doorbell-Activated-Installation-existing/dp/B01DM6BDA4/ref=zg_bs_electronics_41?_encoding=UTF8&psc=1&refRID=PPBEXGXKST3134BKXST7 None None\n",
      "https://www.amazon.com/Apple-Watch-GPS-38mm-Space-Aluminium/dp/B07K39FRSL/ref=zg_bs_electronics_7?_encoding=UTF8&psc=1&refRID=PPBEXGXKST3134BKXST7 None None\n",
      "https://www.amazon.com/Blink-Smart-Security-Camera/dp/B07MMZ2LTB/ref=zg_bs_electronics_13?_encoding=UTF8&psc=1&refRID=PPBEXGXKST3134BKXST7 Blink XT2 Outdoor/Indoor Smart Security Camera with cloud storage included, 2-way audio, 2-year battery life – 1 camera kit $74.99\n",
      "https://www.amazon.com/TCL-32S325-Inch-720p-Smart/dp/B07G9XZ83W/ref=zg_bs_electronics_45?_encoding=UTF8&psc=1&refRID=PPBEXGXKST3134BKXST7 TCL 32S325 32 Inch 720p Roku Smart LED TV (2019) $129.99\n",
      "https://www.amazon.com/Echo-Show-8/dp/B07PF1Y28C/ref=zg_bs_electronics_39?_encoding=UTF8&psc=1&refRID=PPBEXGXKST3134BKXST7 Echo Show 8 -- HD smart display with Alexa – stay connected with video calling - Charcoal $99.99\n",
      "https://www.amazon.com/Ring-Peephole-Cam-doorbell-installation/dp/B07WHMQNPC/ref=zg_bs_electronics_40?_encoding=UTF8&psc=1&refRID=PPBEXGXKST3134BKXST7 None None\n",
      "https://www.amazon.com/Ring-Video-Doorbell-3/dp/B0849J7W5X/ref=zg_bs_electronics_32?_encoding=UTF8&psc=1&refRID=PPBEXGXKST3134BKXST7 None None\n",
      "https://www.amazon.com/Fire-HD-10/dp/B07K1RZWMC/ref=zg_bs_electronics_11?_encoding=UTF8&psc=1&refRID=PPBEXGXKST3134BKXST7 Fire HD 10 Tablet (10.1\" 1080p full HD display, 32 GB, latest model) – Black $149.99\n",
      "https://www.amazon.com/All-new-Ring-Video-Doorbell-Echo/dp/B085VHPH8P/ref=zg_bs_electronics_33?_encoding=UTF8&psc=1&refRID=PPBEXGXKST3134BKXST7 None None\n",
      "https://www.amazon.com/Echo-Dot/dp/B07N8RPRF7/ref=zg_bs_electronics_31?_encoding=UTF8&psc=1&refRID=PPBEXGXKST3134BKXST7 Echo Dot (3rd Gen) - Smart speaker with clock and Alexa - Sandstone $59.99\n",
      "https://www.amazon.com/Letsfit-Activity-Waterproof-Pedometer-Smartwatch/dp/B07X2KLTJ2/ref=zg_bs_electronics_30?_encoding=UTF8&psc=1&refRID=PPBEXGXKST3134BKXST7 None None\n",
      "https://www.amazon.com/Bototek-Protector-Charging-Extension-Smartphone/dp/B07MVZZV3G/ref=zg_bs_electronics_26?_encoding=UTF8&psc=1&refRID=PPBEXGXKST3134BKXST7 Power Strip, Bototek Surge Protector with 10 AC Outlets and 4 USB Charging Ports,1875W/15A, 2100 Joules, 6 Feet Long Extension Cord for Smartphone Tablets Home,Office, Hotel- Black $26.99\n",
      "https://www.amazon.com/Ring-Spotlight-Battery-Black-Charcoal/dp/B07YXPD791/ref=zg_bs_electronics_44?_encoding=UTF8&psc=1&refRID=PPBEXGXKST3134BKXST7 None None\n"
     ]
    },
    {
     "name": "stdout",
     "output_type": "stream",
     "text": [
      "https://www.amazon.com/Roku-Premiere-HDR-Streaming-Player-Premium/dp/B07HDBZN7Q/ref=zg_bs_electronics_46?_encoding=UTF8&psc=1&refRID=PPBEXGXKST3134BKXST7 Roku Premiere | HD/4K/HDR Streaming Media Player, Simple Remote and Premium HDMI Cable $39.00\n",
      "https://www.amazon.com/OHill-Organizer-Management-Organizing-Adhesive/dp/B071FXZBMV/ref=zg_bs_electronics_21?_encoding=UTF8&psc=1&refRID=PPBEXGXKST3134BKXST7 None None\n",
      "https://www.amazon.com/Roku-Express-Streaming-Media-Player/dp/B07WVFCVJN/ref=zg_bs_electronics_12?_encoding=UTF8&psc=1&refRID=PPBEXGXKST3134BKXST7 Roku Express HD Streaming Media Player 2019 $29.00\n",
      "https://www.amazon.com/Sceptre-E205W-16003R-Frameless-Speakers-Metallic/dp/B07743412C/ref=zg_bs_electronics_43?_encoding=UTF8&psc=1&refRID=PPBEXGXKST3134BKXST7 Sceptre 20\" 1600x900 75Hz Ultra Thin LED Monitor 2x HDMI VGA Built-in Speakers, Machine Black Wide Viewing Angle 170° (Horizontal) / 160° (Vertical) $74.97\n",
      "https://www.amazon.com/Fujifilm-INSTAX-Instant-Twin-Pack/dp/B00EB4ADQW/ref=zg_bs_electronics_18?_encoding=UTF8&psc=1&refRID=PPBEXGXKST3134BKXST7 Fujifilm Instax Mini Instant Film Twin Pack (White) $12.11\n",
      "https://www.amazon.com/Pasow-Reusable-Fastening-Organizer-Holder/dp/B0154MS9Q0/ref=zg_bs_electronics_50?_encoding=UTF8&psc=1&refRID=PPBEXGXKST3134BKXST7 PASOW 50pcs Cable Ties Reusable Fastening Wire Organizer Cord Rope Holder 7 Inch (Black) $7.99\n",
      "https://www.amazon.com/Apple-Watch-GPS-38mm-Silver-Aluminium/dp/B07K37HKT8/ref=zg_bs_electronics_25?_encoding=UTF8&psc=1&refRID=PPBEXGXKST3134BKXST7 None None\n",
      "https://www.amazon.com/Staging-Product-Not-Retail-Sale/dp/B07Q769B5X/ref=zg_bs_electronics_36?_encoding=UTF8&psc=1&refRID=PPBEXGXKST3134BKXST7 Ring Indoor Cam, Compact Plug-In HD security camera with two-way talk, Works with Alexa - Black $59.99\n",
      "https://www.amazon.com/Wyze-Indoor-Wireless-Detection-Assistant/dp/B076H3SRXG/ref=zg_bs_electronics_6?_encoding=UTF8&psc=1&refRID=PPBEXGXKST3134BKXST7 Wyze Cam 1080p HD Indoor Wireless Smart Home Camera with Night Vision, 2-Way Audio, Works with Alexa & the Google Assistant, One Pack, White - WYZEC2 $25.98\n",
      "https://www.amazon.com/Echo-Dot/dp/B07FZ8S74R/ref=zg_bs_electronics_1?_encoding=UTF8&psc=1&refRID=PPBEXGXKST3134BKXST7 None None\n",
      "https://www.amazon.com/Introducing-Echo-Show-Compact-Charcoal/dp/B07HZLHPKP/ref=zg_bs_electronics_23?_encoding=UTF8&psc=1&refRID=PPBEXGXKST3134BKXST7 Echo Show 5 -- Smart display with Alexa – stay connected with video calling - Charcoal $69.99\n",
      "https://www.amazon.com/Ring-Video-Doorbell/dp/B07WGJ8XWZ/ref=zg_bs_electronics_8?_encoding=UTF8&psc=1&refRID=PPBEXGXKST3134BKXST7 None None\n",
      "https://www.amazon.com/TP-Link-AC1750-Smart-WiFi-Router/dp/B079JD7F7G/ref=zg_bs_electronics_10?_encoding=UTF8&psc=1&refRID=PPBEXGXKST3134BKXST7 TP-Link AC1750 Smart WiFi Router - Dual Band Gigabit Wireless Internet Router for Home, Works with Alexa, VPN Server, Parental Control&QoS (Archer A7) $62.64\n",
      "https://www.amazon.com/All-new-Ring-Stick-Battery-Charcoal/dp/B07ZZY2F17/ref=zg_bs_electronics_29?_encoding=UTF8&psc=1&refRID=PPBEXGXKST3134BKXST7 None None\n",
      "https://www.amazon.com/Roku-Streaming-Stick-HDR-Streaming-Long-range/dp/B075XLWML4/ref=zg_bs_electronics_5?_encoding=UTF8&psc=1&refRID=PPBEXGXKST3134BKXST7 Roku Streaming Stick+ | HD/4K/HDR Streaming Device with Long-range Wireless and Voice Remote with TV Controls (updated for 2019) $39.00\n",
      "https://www.amazon.com/AmazonBasics-6-Outlet-Protector-2-Pack-2-Foot/dp/B00TP1BWMK/ref=zg_bs_electronics_27?_encoding=UTF8&psc=1&refRID=PPBEXGXKST3134BKXST7 AmazonBasics 6-Outlet, 200 Joule Surge Protector Power Strip, 2 Foot, White - Pack of 2 $12.99\n",
      "https://www.amazon.com/Anker-PowerPort-Overload-Protection-Ultra-Compact/dp/B07D25RSWX/ref=zg_bs_electronics_22?_encoding=UTF8&psc=1&refRID=PPBEXGXKST3134BKXST7 None None\n",
      "https://www.amazon.com/All-New-Fire-HD-8-Kids-Edition-Tablet/dp/B07WDDT3G5/ref=zg_bs_electronics_28?_encoding=UTF8&psc=1&refRID=PPBEXGXKST3134BKXST7 All-new Fire HD 8 Kids Edition tablet, 8\" HD display, 32 GB, Blue Kid-Proof Case $139.99\n",
      "https://www.amazon.com/Wyze-1080p-Indoor-Camera-Vision/dp/B07DGR98VQ/ref=zg_bs_electronics_35?_encoding=UTF8&psc=1&refRID=PPBEXGXKST3134BKXST7 Wyze Cam Pan 1080p Pan/Tilt/Zoom Wi-Fi Indoor Smart Home Camera with Night Vision, 2-Way Audio, Works with Alexa & the Google Assistant, White - WYZECP1 $37.98\n",
      "https://www.amazon.com/HP-23-8-inch-Adjustment-Speakers-VH240a/dp/B072M34RQC/ref=zg_bs_electronics_17?_encoding=UTF8&psc=1&refRID=PPBEXGXKST3134BKXST7 None None\n",
      "https://www.amazon.com/Anker-PowerExtend-Outlets-Extension-Safety/dp/B083XRJXSD/ref=zg_bs_electronics_48?_encoding=UTF8&psc=1&refRID=PPBEXGXKST3134BKXST7 Anker Power Strip with USB PowerExtend USB 2 mini, 2 Outlets, and 2 USB Ports, Flat Plug, 5 ft Extension Cord, Safety System for Travel, Desk, and Home Office $13.99\n",
      "https://www.amazon.com/all-new-Echo/dp/B07NFTVP7P/ref=zg_bs_electronics_15?_encoding=UTF8&psc=1&refRID=PPBEXGXKST3134BKXST7 None None\n",
      "https://www.amazon.com/Blink-Mini-Indoor-Camera/dp/B07X6C9RMF/ref=zg_bs_electronics_19?_encoding=UTF8&psc=1&refRID=PPBEXGXKST3134BKXST7 Introducing Blink Mini – Compact indoor plug-in smart security camera, 1080 HD video, motion detection, night vision, Works with Alexa $34.99\n",
      "https://www.amazon.com/TESSAN-Mountable-Extension-Outlets-Lightweight/dp/B07ZRDGF6Y/ref=zg_bs_electronics_37?_encoding=UTF8&psc=1&refRID=PPBEXGXKST3134BKXST7 None None\n",
      "https://www.amazon.com/Ring-8AB1S7-0EU0-Rechargeable-Battery-Pack/dp/B076JKHDQT/ref=zg_bs_electronics_20?_encoding=UTF8&psc=1&refRID=PPBEXGXKST3134BKXST7 Ring Rechargeable Battery Pack $29.99\n",
      "https://www.amazon.com/amFilm-Tempered-Screen-Protector-Nintendo-Switch/dp/B01N3ASPNV/ref=zg_bs_electronics_42?_encoding=UTF8&psc=1&refRID=PPBEXGXKST3134BKXST7 amFilm Tempered Glass Screen Protector for Nintendo Switch 2017 (2-Pack) $7.99\n",
      "https://www.amazon.com/Fire-TV-Stick-with-Alexa-Voice-Remote/dp/B0791TX5P5/ref=zg_bs_electronics_3?_encoding=UTF8&psc=1&refRID=PPBEXGXKST3134BKXST7 Fire TV Stick streaming media player with Alexa built in, includes Alexa Voice Remote, HD, easy set-up, released 2019 $39.99\n",
      "https://www.amazon.com/Charger-Replacement-Magsafe-Magnetic-Adapter/dp/B07RPD51XV/ref=zg_bs_electronics_47?_encoding=UTF8&psc=1&refRID=PPBEXGXKST3134BKXST7 Mac Book Air Charger, Great Replacement 45W Magsafe 2 Magnetic T-Tip Power Adapter Charger for MacBook Air 11-inch and 13-inch (Mid 2012 or Later) (White) $21.59\n",
      "https://www.amazon.com/Womens-Walking-Shoes-Sock-Sneakers/dp/B07R6R7JV5/ref=zg_bs_fashion_20?_encoding=UTF8&psc=1&refRID=6KBTVSJ56041PF82TJ0M Women's Walking Shoes Sock Sneakers - Mesh Slip On Air Cushion Lady Girls Modern Jazz Dance Easy Shoes Platform Loafers $29.99\n",
      "https://www.amazon.com/Signature-Levi-Strauss-Gold-Label/dp/B081GKNJV4/ref=zg_bs_fashion_24?_encoding=UTF8&psc=1&refRID=6KBTVSJ56041PF82TJ0M Signature by Levi Strauss & Co. Gold Label Women's Totally Shaping Pull-on Skinny Jeans $24.96\n",
      "https://www.amazon.com/Cherokee-Revolution-WW610-Mock-Caribbean/dp/B071K9RGQL/ref=zg_bs_fashion_25?_encoding=UTF8&psc=1&refRID=6KBTVSJ56041PF82TJ0M None None\n",
      "https://www.amazon.com/YIANNA-Underbust-Trainer-Corsets-Hourglass/dp/B0101BQV2I/ref=zg_bs_fashion_34?_encoding=UTF8&psc=1&refRID=6KBTVSJ56041PF82TJ0M None None\n",
      "https://www.amazon.com/Hanes-Womens-T-Shirt-Small-Black/dp/B00KRYLG7U/ref=zg_bs_fashion_18?_encoding=UTF8&psc=1&refRID=6KBTVSJ56041PF82TJ0M None None\n",
      "https://www.amazon.com/Hanes-ComfortBlend-EcoSmart-Pullover-P170/dp/B07KTFH8ZN/ref=zg_bs_fashion_28?_encoding=UTF8&psc=1&refRID=6KBTVSJ56041PF82TJ0M None None\n",
      "https://www.amazon.com/Hanes-Short-Sleeve-Beefy-T-Shirt-Black/dp/B00NOY3MGI/ref=zg_bs_fashion_33?_encoding=UTF8&psc=1&refRID=6KBTVSJ56041PF82TJ0M None None\n",
      "https://www.amazon.com/Crocs-Baby-Littles-Clog-Infant-Lavender/dp/B07HHSX6B7/ref=zg_bs_fashion_17?_encoding=UTF8&psc=1&refRID=6KBTVSJ56041PF82TJ0M None None\n",
      "https://www.amazon.com/Nite-Munki-Matching-Holiday-Collection/dp/B07W8K9CYF/ref=zg_bs_fashion_10?_encoding=UTF8&psc=1&refRID=6KBTVSJ56041PF82TJ0M None None\n",
      "https://www.amazon.com/Colorfulkoala-Womens-Waisted-Leggings-Pockets/dp/B07V9LPB5K/ref=zg_bs_fashion_15?_encoding=UTF8&psc=1&refRID=6KBTVSJ56041PF82TJ0M None None\n",
      "https://www.amazon.com/ODODOS-Pockets-Control-Workout-Leggings/dp/B07RMTPS34/ref=zg_bs_fashion_32?_encoding=UTF8&psc=1&refRID=6KBTVSJ56041PF82TJ0M None None\n",
      "https://www.amazon.com/Leggings-Depot-JYL19-BLACK-S-ActiveFlex-Slim-fit/dp/B086V4ZZZP/ref=zg_bs_fashion_9?_encoding=UTF8&psc=1&refRID=6KBTVSJ56041PF82TJ0M None None\n",
      "https://www.amazon.com/Amoretu-Womens-Loose-Pleated-Sleeves/dp/B07G599PB7/ref=zg_bs_fashion_22?_encoding=UTF8&psc=1&refRID=6KBTVSJ56041PF82TJ0M None None\n",
      "https://www.amazon.com/STELLE-Girls-Ballet-Slippers-Toddler/dp/B086L5P7HK/ref=zg_bs_fashion_45?_encoding=UTF8&psc=1&refRID=6KBTVSJ56041PF82TJ0M None None\n",
      "https://www.amazon.com/Fruit-Loom-Coolzone-Briefs-Pack-Assorted/dp/B08FBL9RML/ref=zg_bs_fashion_5?_encoding=UTF8&psc=1&refRID=6KBTVSJ56041PF82TJ0M None None\n",
      "https://www.amazon.com/Dockers-Classic-Perfect-Short-Cotton/dp/B00EYNIIPS/ref=zg_bs_fashion_48?_encoding=UTF8&psc=1&refRID=6KBTVSJ56041PF82TJ0M None None\n",
      "https://www.amazon.com/Fruit-Loom-Tucked-T-Shirt-Classic/dp/B08F2NKCTZ/ref=zg_bs_fashion_41?_encoding=UTF8&psc=1&refRID=6KBTVSJ56041PF82TJ0M None None\n",
      "https://www.amazon.com/QPNGRP-Casual-Pockets-Elastic-Darkgray/dp/B07DXFD1V7/ref=zg_bs_fashion_44?_encoding=UTF8&psc=1&refRID=6KBTVSJ56041PF82TJ0M None None\n",
      "https://www.amazon.com/Sleeve-T-Shirts-Lightweight-Summer-Clothes/dp/B07MNPGWDM/ref=zg_bs_fashion_50?_encoding=UTF8&psc=1&refRID=6KBTVSJ56041PF82TJ0M None None\n",
      "https://www.amazon.com/Gildan-V-Neck-T-Shirts-Multi-Medium/dp/B077ZKK9YB/ref=zg_bs_fashion_39?_encoding=UTF8&psc=1&refRID=6KBTVSJ56041PF82TJ0M None None\n",
      "https://www.amazon.com/Hanes-Classics-Boxer-Brief-Black/dp/B07B3G3CN5/ref=zg_bs_fashion_26?_encoding=UTF8&psc=1&refRID=6KBTVSJ56041PF82TJ0M None None\n",
      "https://www.amazon.com/Shirts-Women-Ladies-Sleeve-Summer/dp/B07PRQ1CK3/ref=zg_bs_fashion_30?_encoding=UTF8&psc=1&refRID=6KBTVSJ56041PF82TJ0M None None\n",
      "https://www.amazon.com/INTO-AM-Europa-Seamless-Bandana/dp/B01DUTYGXE/ref=zg_bs_fashion_14?_encoding=UTF8&psc=1&refRID=6KBTVSJ56041PF82TJ0M None None\n",
      "https://www.amazon.com/Levis-Regular-Fit-Jeans-Medium-Stonewash/dp/B001H0FVAG/ref=zg_bs_fashion_38?_encoding=UTF8&psc=1&refRID=6KBTVSJ56041PF82TJ0M None None\n",
      "https://www.amazon.com/Warners-Womens-Wire-Free-Biking-X-Small/dp/B07YVQM4L4/ref=zg_bs_fashion_46?_encoding=UTF8&psc=1&refRID=6KBTVSJ56041PF82TJ0M None None\n",
      "https://www.amazon.com/Lemedy-Padded-Fitness-Workout-Running/dp/B07TSCZV2P/ref=zg_bs_fashion_2?_encoding=UTF8&psc=1&refRID=6KBTVSJ56041PF82TJ0M None None\n",
      "https://www.amazon.com/Carhartt-playera-bolsillo-trabajo-original/dp/B002GHC33C/ref=zg_bs_fashion_1?_encoding=UTF8&psc=1&refRID=6KBTVSJ56041PF82TJ0M None None\n",
      "https://www.amazon.com/crocs-Unisex-Classic-Black-Women/dp/B0014BYH62/ref=zg_bs_fashion_19?_encoding=UTF8&psc=1&refRID=6KBTVSJ56041PF82TJ0M None None\n",
      "https://www.amazon.com/Padded-Strappy-Sports-Bras-Women/dp/B07W837978/ref=zg_bs_fashion_29?_encoding=UTF8&psc=1&refRID=6KBTVSJ56041PF82TJ0M None None\n"
     ]
    },
    {
     "name": "stdout",
     "output_type": "stream",
     "text": [
      "https://www.amazon.com/Revolution-Cherokee-Moderate-Drawstring-XX-Small/dp/B071GPNK7R/ref=zg_bs_fashion_23?_encoding=UTF8&psc=1&refRID=6KBTVSJ56041PF82TJ0M None None\n",
      "https://www.amazon.com/Womens-Water-Barefoot-Quick-Dry-Exercise/dp/B07BPZ8S9W/ref=zg_bs_fashion_37?_encoding=UTF8&psc=1&refRID=6KBTVSJ56041PF82TJ0M None None\n",
      "https://www.amazon.com/MIHOLL-Womens-Summer-Casual-Sleeve/dp/B07N4P8VM9/ref=zg_bs_fashion_40?_encoding=UTF8&psc=1&refRID=6KBTVSJ56041PF82TJ0M None None\n",
      "https://www.amazon.com/Urban-CoCo-Womens-Versatile-Stretchy/dp/B06WD5Z6SJ/ref=zg_bs_fashion_47?_encoding=UTF8&psc=1&refRID=6KBTVSJ56041PF82TJ0M None None\n",
      "https://www.amazon.com/Hanes-Full-Zip-EcoSmart-Fleece-Hoodie/dp/B071JDWV4R/ref=zg_bs_fashion_31?_encoding=UTF8&psc=1&refRID=6KBTVSJ56041PF82TJ0M None None\n",
      "https://www.amazon.com/Champion-Jersey-Short-Pockets-Black/dp/B00AKSCXBQ/ref=zg_bs_fashion_27?_encoding=UTF8&psc=1&refRID=6KBTVSJ56041PF82TJ0M None None\n",
      "https://www.amazon.com/BALEAF-Womens-Workout-Control-Pockets/dp/B077HZ4XR6/ref=zg_bs_fashion_3?_encoding=UTF8&psc=1&refRID=6KBTVSJ56041PF82TJ0M None None\n",
      "https://www.amazon.com/Under-Armour-Sleeve-T-Shirt-Citrine/dp/B07YXPVNTT/ref=zg_bs_fashion_13?_encoding=UTF8&psc=1&refRID=6KBTVSJ56041PF82TJ0M None None\n",
      "https://www.amazon.com/VIFUUR-Water-Sports-Unisex-Shoes/dp/B0749FWLTP/ref=zg_bs_fashion_8?_encoding=UTF8&psc=1&refRID=6KBTVSJ56041PF82TJ0M None None\n",
      "https://www.amazon.com/Hanes-Comfortsoft-T-Shirt-Black-Small/dp/B00KBZOR94/ref=zg_bs_fashion_35?_encoding=UTF8&psc=1&refRID=6KBTVSJ56041PF82TJ0M None None\n",
      "https://www.amazon.com/Yidarton-Womens-Sleeve-Blouses-Shirts/dp/B08BHTKG95/ref=zg_bs_fashion_11?_encoding=UTF8&psc=1&refRID=6KBTVSJ56041PF82TJ0M None None\n",
      "https://www.amazon.com/dp/B07QK955LS/?_encoding=UTF8&ref_=nav_swm_ods_gw_sh_halo_eswm&pf_rd_p=946d7325-9455-4ecb-8ae3-fadcd536599a&pf_rd_s=nav-sitewide-msg-text&pf_rd_t=4201&pf_rd_i=navbar-4201&pf_rd_m=ATVPDKIKX0DER&pf_rd_r=6KBTVSJ56041PF82TJ0M None None\n",
      "https://www.amazon.com/SATINA-Waisted-Super-Capri-Leggings/dp/B077YS8TTN/ref=zg_bs_fashion_42?_encoding=UTF8&psc=1&refRID=6KBTVSJ56041PF82TJ0M None None\n",
      "https://www.amazon.com/Hanes-Ecosmart-Fleece-Sweatshirt-Forest/dp/B01L8JJAGG/ref=zg_bs_fashion_6?_encoding=UTF8&psc=1&refRID=6KBTVSJ56041PF82TJ0M None None\n",
      "https://www.amazon.com/Gildan-Mens-T-Shirt-Assortment-Small/dp/B077ZKF9ZN/ref=zg_bs_fashion_4?_encoding=UTF8&psc=1&refRID=6KBTVSJ56041PF82TJ0M None None\n",
      "https://www.amazon.com/KORSIS-Womens-Summer-Dresses-ArmyGreen/dp/B07S8GXHZ2/ref=zg_bs_fashion_43?_encoding=UTF8&psc=1&refRID=6KBTVSJ56041PF82TJ0M None None\n",
      "https://www.amazon.com/Dickies-Multi-Pack-Dri-Tech-Moisture-Control/dp/B0757RXZJH/ref=zg_bs_fashion_7?_encoding=UTF8&psc=1&refRID=6KBTVSJ56041PF82TJ0M None None\n",
      "https://www.amazon.com/IDEGG-Socks-Anti-slid-Athletic-Cotton/dp/B075BHK571/ref=zg_bs_fashion_49?_encoding=UTF8&psc=1&refRID=6KBTVSJ56041PF82TJ0M None None\n",
      "https://www.amazon.com/Crocs-Classic-Comfortable-Casual-Cantaloupe/dp/B07TYTXJFW/ref=zg_bs_fashion_12?_encoding=UTF8&psc=1&refRID=6KBTVSJ56041PF82TJ0M None None\n"
     ]
    }
   ],
   "source": [
    "df_sub = df_sub.apply(row_scrape_event, axis=1)"
   ]
  },
  {
   "cell_type": "code",
   "execution_count": 17,
   "metadata": {},
   "outputs": [],
   "source": [
    "# df.to_csv(product_output, index=False)"
   ]
  },
  {
   "cell_type": "code",
   "execution_count": 18,
   "metadata": {},
   "outputs": [
    {
     "ename": "FileNotFoundError",
     "evalue": "[Errno 2] No such file or directory: '/Users/elfi.yang@trussle.com/Documents/30-day/price-track-and-monitor/notebooks/data/products.csv'",
     "output_type": "error",
     "traceback": [
      "\u001b[0;31m---------------------------------------------------------------------------\u001b[0m",
      "\u001b[0;31mFileNotFoundError\u001b[0m                         Traceback (most recent call last)",
      "\u001b[0;32m<ipython-input-18-f14d3f8dbc89>\u001b[0m in \u001b[0;36m<module>\u001b[0;34m\u001b[0m\n\u001b[0;32m----> 1\u001b[0;31m \u001b[0mproducts_df\u001b[0m \u001b[0;34m=\u001b[0m \u001b[0mpd\u001b[0m\u001b[0;34m.\u001b[0m\u001b[0mread_csv\u001b[0m\u001b[0;34m(\u001b[0m\u001b[0mproduct_output\u001b[0m\u001b[0;34m)\u001b[0m\u001b[0;34m\u001b[0m\u001b[0;34m\u001b[0m\u001b[0m\n\u001b[0m",
      "\u001b[0;32m~/Documents/30-day/price-track-and-monitor/venv/lib/python3.8/site-packages/pandas/io/parsers.py\u001b[0m in \u001b[0;36mread_csv\u001b[0;34m(filepath_or_buffer, sep, delimiter, header, names, index_col, usecols, squeeze, prefix, mangle_dupe_cols, dtype, engine, converters, true_values, false_values, skipinitialspace, skiprows, skipfooter, nrows, na_values, keep_default_na, na_filter, verbose, skip_blank_lines, parse_dates, infer_datetime_format, keep_date_col, date_parser, dayfirst, cache_dates, iterator, chunksize, compression, thousands, decimal, lineterminator, quotechar, quoting, doublequote, escapechar, comment, encoding, dialect, error_bad_lines, warn_bad_lines, delim_whitespace, low_memory, memory_map, float_precision)\u001b[0m\n\u001b[1;32m    684\u001b[0m     )\n\u001b[1;32m    685\u001b[0m \u001b[0;34m\u001b[0m\u001b[0m\n\u001b[0;32m--> 686\u001b[0;31m     \u001b[0;32mreturn\u001b[0m \u001b[0m_read\u001b[0m\u001b[0;34m(\u001b[0m\u001b[0mfilepath_or_buffer\u001b[0m\u001b[0;34m,\u001b[0m \u001b[0mkwds\u001b[0m\u001b[0;34m)\u001b[0m\u001b[0;34m\u001b[0m\u001b[0;34m\u001b[0m\u001b[0m\n\u001b[0m\u001b[1;32m    687\u001b[0m \u001b[0;34m\u001b[0m\u001b[0m\n\u001b[1;32m    688\u001b[0m \u001b[0;34m\u001b[0m\u001b[0m\n",
      "\u001b[0;32m~/Documents/30-day/price-track-and-monitor/venv/lib/python3.8/site-packages/pandas/io/parsers.py\u001b[0m in \u001b[0;36m_read\u001b[0;34m(filepath_or_buffer, kwds)\u001b[0m\n\u001b[1;32m    450\u001b[0m \u001b[0;34m\u001b[0m\u001b[0m\n\u001b[1;32m    451\u001b[0m     \u001b[0;31m# Create the parser.\u001b[0m\u001b[0;34m\u001b[0m\u001b[0;34m\u001b[0m\u001b[0;34m\u001b[0m\u001b[0m\n\u001b[0;32m--> 452\u001b[0;31m     \u001b[0mparser\u001b[0m \u001b[0;34m=\u001b[0m \u001b[0mTextFileReader\u001b[0m\u001b[0;34m(\u001b[0m\u001b[0mfp_or_buf\u001b[0m\u001b[0;34m,\u001b[0m \u001b[0;34m**\u001b[0m\u001b[0mkwds\u001b[0m\u001b[0;34m)\u001b[0m\u001b[0;34m\u001b[0m\u001b[0;34m\u001b[0m\u001b[0m\n\u001b[0m\u001b[1;32m    453\u001b[0m \u001b[0;34m\u001b[0m\u001b[0m\n\u001b[1;32m    454\u001b[0m     \u001b[0;32mif\u001b[0m \u001b[0mchunksize\u001b[0m \u001b[0;32mor\u001b[0m \u001b[0miterator\u001b[0m\u001b[0;34m:\u001b[0m\u001b[0;34m\u001b[0m\u001b[0;34m\u001b[0m\u001b[0m\n",
      "\u001b[0;32m~/Documents/30-day/price-track-and-monitor/venv/lib/python3.8/site-packages/pandas/io/parsers.py\u001b[0m in \u001b[0;36m__init__\u001b[0;34m(self, f, engine, **kwds)\u001b[0m\n\u001b[1;32m    934\u001b[0m             \u001b[0mself\u001b[0m\u001b[0;34m.\u001b[0m\u001b[0moptions\u001b[0m\u001b[0;34m[\u001b[0m\u001b[0;34m\"has_index_names\"\u001b[0m\u001b[0;34m]\u001b[0m \u001b[0;34m=\u001b[0m \u001b[0mkwds\u001b[0m\u001b[0;34m[\u001b[0m\u001b[0;34m\"has_index_names\"\u001b[0m\u001b[0;34m]\u001b[0m\u001b[0;34m\u001b[0m\u001b[0;34m\u001b[0m\u001b[0m\n\u001b[1;32m    935\u001b[0m \u001b[0;34m\u001b[0m\u001b[0m\n\u001b[0;32m--> 936\u001b[0;31m         \u001b[0mself\u001b[0m\u001b[0;34m.\u001b[0m\u001b[0m_make_engine\u001b[0m\u001b[0;34m(\u001b[0m\u001b[0mself\u001b[0m\u001b[0;34m.\u001b[0m\u001b[0mengine\u001b[0m\u001b[0;34m)\u001b[0m\u001b[0;34m\u001b[0m\u001b[0;34m\u001b[0m\u001b[0m\n\u001b[0m\u001b[1;32m    937\u001b[0m \u001b[0;34m\u001b[0m\u001b[0m\n\u001b[1;32m    938\u001b[0m     \u001b[0;32mdef\u001b[0m \u001b[0mclose\u001b[0m\u001b[0;34m(\u001b[0m\u001b[0mself\u001b[0m\u001b[0;34m)\u001b[0m\u001b[0;34m:\u001b[0m\u001b[0;34m\u001b[0m\u001b[0;34m\u001b[0m\u001b[0m\n",
      "\u001b[0;32m~/Documents/30-day/price-track-and-monitor/venv/lib/python3.8/site-packages/pandas/io/parsers.py\u001b[0m in \u001b[0;36m_make_engine\u001b[0;34m(self, engine)\u001b[0m\n\u001b[1;32m   1166\u001b[0m     \u001b[0;32mdef\u001b[0m \u001b[0m_make_engine\u001b[0m\u001b[0;34m(\u001b[0m\u001b[0mself\u001b[0m\u001b[0;34m,\u001b[0m \u001b[0mengine\u001b[0m\u001b[0;34m=\u001b[0m\u001b[0;34m\"c\"\u001b[0m\u001b[0;34m)\u001b[0m\u001b[0;34m:\u001b[0m\u001b[0;34m\u001b[0m\u001b[0;34m\u001b[0m\u001b[0m\n\u001b[1;32m   1167\u001b[0m         \u001b[0;32mif\u001b[0m \u001b[0mengine\u001b[0m \u001b[0;34m==\u001b[0m \u001b[0;34m\"c\"\u001b[0m\u001b[0;34m:\u001b[0m\u001b[0;34m\u001b[0m\u001b[0;34m\u001b[0m\u001b[0m\n\u001b[0;32m-> 1168\u001b[0;31m             \u001b[0mself\u001b[0m\u001b[0;34m.\u001b[0m\u001b[0m_engine\u001b[0m \u001b[0;34m=\u001b[0m \u001b[0mCParserWrapper\u001b[0m\u001b[0;34m(\u001b[0m\u001b[0mself\u001b[0m\u001b[0;34m.\u001b[0m\u001b[0mf\u001b[0m\u001b[0;34m,\u001b[0m \u001b[0;34m**\u001b[0m\u001b[0mself\u001b[0m\u001b[0;34m.\u001b[0m\u001b[0moptions\u001b[0m\u001b[0;34m)\u001b[0m\u001b[0;34m\u001b[0m\u001b[0;34m\u001b[0m\u001b[0m\n\u001b[0m\u001b[1;32m   1169\u001b[0m         \u001b[0;32melse\u001b[0m\u001b[0;34m:\u001b[0m\u001b[0;34m\u001b[0m\u001b[0;34m\u001b[0m\u001b[0m\n\u001b[1;32m   1170\u001b[0m             \u001b[0;32mif\u001b[0m \u001b[0mengine\u001b[0m \u001b[0;34m==\u001b[0m \u001b[0;34m\"python\"\u001b[0m\u001b[0;34m:\u001b[0m\u001b[0;34m\u001b[0m\u001b[0;34m\u001b[0m\u001b[0m\n",
      "\u001b[0;32m~/Documents/30-day/price-track-and-monitor/venv/lib/python3.8/site-packages/pandas/io/parsers.py\u001b[0m in \u001b[0;36m__init__\u001b[0;34m(self, src, **kwds)\u001b[0m\n\u001b[1;32m   1996\u001b[0m         \u001b[0mkwds\u001b[0m\u001b[0;34m[\u001b[0m\u001b[0;34m\"usecols\"\u001b[0m\u001b[0;34m]\u001b[0m \u001b[0;34m=\u001b[0m \u001b[0mself\u001b[0m\u001b[0;34m.\u001b[0m\u001b[0musecols\u001b[0m\u001b[0;34m\u001b[0m\u001b[0;34m\u001b[0m\u001b[0m\n\u001b[1;32m   1997\u001b[0m \u001b[0;34m\u001b[0m\u001b[0m\n\u001b[0;32m-> 1998\u001b[0;31m         \u001b[0mself\u001b[0m\u001b[0;34m.\u001b[0m\u001b[0m_reader\u001b[0m \u001b[0;34m=\u001b[0m \u001b[0mparsers\u001b[0m\u001b[0;34m.\u001b[0m\u001b[0mTextReader\u001b[0m\u001b[0;34m(\u001b[0m\u001b[0msrc\u001b[0m\u001b[0;34m,\u001b[0m \u001b[0;34m**\u001b[0m\u001b[0mkwds\u001b[0m\u001b[0;34m)\u001b[0m\u001b[0;34m\u001b[0m\u001b[0;34m\u001b[0m\u001b[0m\n\u001b[0m\u001b[1;32m   1999\u001b[0m         \u001b[0mself\u001b[0m\u001b[0;34m.\u001b[0m\u001b[0munnamed_cols\u001b[0m \u001b[0;34m=\u001b[0m \u001b[0mself\u001b[0m\u001b[0;34m.\u001b[0m\u001b[0m_reader\u001b[0m\u001b[0;34m.\u001b[0m\u001b[0munnamed_cols\u001b[0m\u001b[0;34m\u001b[0m\u001b[0;34m\u001b[0m\u001b[0m\n\u001b[1;32m   2000\u001b[0m \u001b[0;34m\u001b[0m\u001b[0m\n",
      "\u001b[0;32mpandas/_libs/parsers.pyx\u001b[0m in \u001b[0;36mpandas._libs.parsers.TextReader.__cinit__\u001b[0;34m()\u001b[0m\n",
      "\u001b[0;32mpandas/_libs/parsers.pyx\u001b[0m in \u001b[0;36mpandas._libs.parsers.TextReader._setup_parser_source\u001b[0;34m()\u001b[0m\n",
      "\u001b[0;31mFileNotFoundError\u001b[0m: [Errno 2] No such file or directory: '/Users/elfi.yang@trussle.com/Documents/30-day/price-track-and-monitor/notebooks/data/products.csv'"
     ]
    }
   ],
   "source": [
    "products_df = pd.read_csv(product_output)"
   ]
  },
  {
   "cell_type": "code",
   "execution_count": null,
   "metadata": {},
   "outputs": [],
   "source": [
    "final_df = pd.concat([products_df, df_sub])\n",
    "final_df.to_csv(product_output, index=False)"
   ]
  },
  {
   "cell_type": "code",
   "execution_count": null,
   "metadata": {},
   "outputs": [],
   "source": [
    "final_df.head()"
   ]
  },
  {
   "cell_type": "code",
   "execution_count": null,
   "metadata": {},
   "outputs": [],
   "source": []
  },
  {
   "cell_type": "code",
   "execution_count": null,
   "metadata": {},
   "outputs": [],
   "source": []
  }
 ],
 "metadata": {
  "kernelspec": {
   "display_name": "Python 3",
   "language": "python",
   "name": "python3"
  },
  "language_info": {
   "codemirror_mode": {
    "name": "ipython",
    "version": 3
   },
   "file_extension": ".py",
   "mimetype": "text/x-python",
   "name": "python",
   "nbconvert_exporter": "python",
   "pygments_lexer": "ipython3",
   "version": "3.8.2"
  }
 },
 "nbformat": 4,
 "nbformat_minor": 4
}
