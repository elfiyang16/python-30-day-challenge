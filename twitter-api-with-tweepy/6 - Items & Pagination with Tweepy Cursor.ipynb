{
 "cells": [
  {
   "cell_type": "code",
   "execution_count": 1,
   "metadata": {},
   "outputs": [],
   "source": [
    "import tweepy \n",
    "import webbrowser\n",
    "import time\n",
    "import pandas as pd"
   ]
  },
  {
   "cell_type": "code",
   "execution_count": 4,
   "metadata": {},
   "outputs": [
    {
     "name": "stdout",
     "output_type": "stream",
     "text": [
      "What is the pin value? 2577556\n"
     ]
    },
    {
     "data": {
      "text/plain": [
       "('895044554688212992-UGzkKooNF5RBzjFYVD5L0STw5de8m5G',\n",
       " 'dBv1FcV1SJsrx60vuEwWxZS9mxvyzzWV6blg9v4qCpHp2')"
      ]
     },
     "execution_count": 4,
     "metadata": {},
     "output_type": "execute_result"
    }
   ],
   "source": [
    "consumer_key =\"AeUQkUTUkMwoxDkFq1uxgZImO\"\n",
    "consumer_secret = \"wod7s7HZOOmvn042Us9L42qsCGkUGPJAFRv1RCiyvgF6abNXDW\"\n",
    "callback_uri = \"oob\"\n",
    "auth = tweepy.OAuthHandler(consumer_key, consumer_secret, callback_uri)\n",
    "redirect_url = auth.get_authorization_url()\n",
    "webbrowser.open(redirect_url)\n",
    "user_pint_input = input(\"What is the pin value? \") \n",
    "auth.get_access_token(user_pint_input)"
   ]
  },
  {
   "cell_type": "code",
   "execution_count": 5,
   "metadata": {},
   "outputs": [],
   "source": [
    "api = tweepy.API(auth, wait_on_rate_limit=True)#no overloading the api"
   ]
  },
  {
   "cell_type": "code",
   "execution_count": 6,
   "metadata": {},
   "outputs": [
    {
     "data": {
      "text/plain": [
       "40"
      ]
     },
     "execution_count": 6,
     "metadata": {},
     "output_type": "execute_result"
    }
   ],
   "source": [
    "me = api.me()\n",
    "me.screen_name\n",
    "len(api.home_timeline(count=40))"
   ]
  },
  {
   "cell_type": "code",
   "execution_count": 7,
   "metadata": {},
   "outputs": [
    {
     "name": "stdout",
     "output_type": "stream",
     "text": [
      "0 RT @KoboNishioka: 以前、工房西岡のシマエナガを取り上げて下さった『ぼく、しまえなが。』 @daily_simaenaga の #やなぎさわごう 様が写真集『#空飛ぶ豆大福』を出版されました😊　おめでとうございます❗\n",
      "その時の動物たち #飛ぶフクロウ #シマリス…\n",
      "1 札幌市内の図書施設すべてに写真集を寄贈したよ。書架に並ぶのはもうちょっと先になると思うけど、機会があったら手にとってみてね（・▴・）ｳｪｰｲ　https://t.co/XS8467TOLY\n",
      "2 8月末より日本の森水槽で暮らしているのは、ナツとリンの親子。\n",
      "2頭そろって展示水槽デビューです(*´▽｀*)✨\n",
      "\n",
      "実はこの2頭、みさき公園さんからお引越ししてきた子たちです。\n",
      "仲良し親子の姿をあたたかく見守ってくださいね♪\n",
      "→ブロ… https://t.co/36megJUUG6\n",
      "3 おはエナガ（･▴･）げつようのあさは #しまくじ で運だめし なにがでるかな？ https://t.co/7OQtRgo40q\n",
      "4 boku_simaenagaさんがユニクロのUTme!でオリジナルデザインを出品しています。 https://t.co/dljQpEkQpH #UTme\n",
      "5 おはー。９月６日（にちよう）の朝です。きょうもシマエナガがかわいいね（・▴・） #おはシマ #空飛ぶ豆大福 https://t.co/enV0gS801f\n",
      "6 安田章大さんと福士蒼汰さんにはさまれる豆大福（・●・）　https://t.co/qj4N2QaMUx https://t.co/QN31jAOmpK\n",
      "7 『ゆきのようせい』『ぼく、シマエナガ。』『空飛ぶ豆大福』で札幌のよいこのみんなシマエナガ好きになる計画完了した（・▴・）ｶﾝﾘｮｳｼﾀ https://t.co/vj5U8iIppj\n",
      "8 RT @daily_simaenaga: 写真集『ぼく、シマエナガ。　あなたを癒してくれる63の写真』を、札幌市内の小学校全２０１校に寄贈するー　よいこのみんなもうすこしでとどくからまっててね（・▴・）ノ https://t.co/oqydRFieXw\n",
      "9 RT @daily_simaenaga: 札幌市の小学校２０３校ぜんぶに写真集『ゆきのようせい』を寄贈したよ（・▲・）さあ、よい子のみんな！！雪の妖精の可愛さに衝撃を受けるのだーーーー！！　https://t.co/Aa4HNN4yTg https://t.co/GtaQfqA…\n",
      "10 札幌市の小学校２００校すべてに写真集『空飛ぶ豆大福　きょうもシマエナガがかわいいね』を寄贈したよ。よいこのみんな喜んでくれるといいな（・▴・）ﾎﾞｸﾆﾊﾏﾙﾉﾀﾞ　https://t.co/9ma36oixHE https://t.co/6HanHgiSew\n",
      "11 田丸印房さんの「十五夜の小さな妖精セット」がすごい。紅葉グラデーションをかんぺき再現。お月見シマエナガ。ちなみに２０２０年の十五夜（中秋の名月）は１０月１日だよ（・▴・）　https://t.co/PADUQj3Foa https://t.co/ihnm8KREK7\n",
      "12 イケメンにはさまれる豆大福　https://t.co/jZXLUtCxBJ https://t.co/xWb0lSqWSQ\n",
      "13 おはー。９月５日（どよう）の朝です。きょうもシマエナガがかわいいね（・▴・） #おはシマ #空飛ぶ豆大福 https://t.co/KfP1dqUYOU\n",
      "14 ランキング３位！ありがとおおおおおおおおおおおおおおおおおおおおおおおおおおおおおおおおおおおおおおおお（・▴・）ｳﾚﾁｨ https://t.co/L7ixNwNi4w\n",
      "15 ケツァール\n",
      "#北海道道 \n",
      "#鈴井貴之 https://t.co/8CYdZ5SuZJ\n",
      "16 小樽のガラス工房「グラスアートエヌプラス」さんの、「シマエナガの箸置き」と「ちびっこシマエナガ」。かんぺきなフォルム（・▴・）　https://t.co/UhdcdIyFfA https://t.co/1v8GR6GQB8\n",
      "17 RT @glass_art_Nplus: ぼく、シマエナガさん（@daily_simaenaga ）が第3弾の写真集を出したぞー！\n",
      "豆大福のようなシマエナガ達がたくさん写ってるよ！\n",
      "これはかなり癒されるー。\n",
      "みんなも観てねー！！！\n",
      "\n",
      "https://t.co/P8fOjpLHs…\n",
      "18 ぼく、シマエナガ。3rd写真集『空飛ぶ豆大福　きょうもシマエナガがかわいいね』（しずく書房）出たよおおお🎊ぼくシマシリーズ完結！Amazonからご注文いただくと、もちもち学習帳とポストカードがついてくるうう（・▴・）… https://t.co/eZ7qjKBXhA\n",
      "19 3rd写真集発売を記念してAmazonポイント10％おつけしまっす（・▴・）『ぼく、シマエナガ。: あなたを癒してくれる63の写真』（写真・やなぎさわごう） https://t.co/jYX6Rv1jFt\n",
      "20 3rd写真集発売を記念してAmazonポイント10％おつけしまっす（・▴・）『ゆきのようせい』（写真・やなぎさわごう）https://t.co/SmoNtJxrUV\n",
      "21 おはー。９月４日（きんよう）の朝です。きょうもシマエナガがかわいいね（・▴・） #おはシマ #空飛ぶ豆大福 https://t.co/EEXdZMx7K0\n",
      "22 おはー。９月３日（もくよう）の朝です。きょうもシマエナガがかわいいね（・▴・） #おはシマ #空飛ぶ豆大福 https://t.co/WDNVssMZQe\n",
      "23 そっこうでポチりました https://t.co/Yzm36OPiJl\n",
      "24 道民のみなさまに質問です（・▴・）\n",
      "シマエナガを実際に見たこと\n",
      "25 海月銀河に、巨大クラゲ現る！\n",
      "\n",
      "巨大「ビゼンクラゲ」が登場。\n",
      "白い“傘”の部分の直径約40cm！(ﾟДﾟ)\n",
      "手と比べてみても…ビックリなサイズ感です。\n",
      "\n",
      "9月中旬頃（予定）までの期間限定の展示です(^o^)／… https://t.co/CncVDXdCFK\n",
      "26 おはー。９月２日（すいよう）の朝です。きょうもシマエナガがかわいいね（・▴・） #おはシマ #空飛ぶ豆大福 https://t.co/ULWj0ExbCo\n",
      "27 ５０羽目。折り時間２１分。連続で折っちゃったもんね。このままのペースだと年内危ういから折りだめ作戦や。やっと５０羽。折り返し地点。折り紙だけに。０点。 https://t.co/W5WUzHh1Gc\n",
      "28 ４９羽目。折り時間２０分。みんなー、げんきにしてたー？折り紙おじさんだよー。1か月以上ぶりに折ったけど折れるもんだね。身体がＯＢＯＥＴＥＲＵ。またぼちぼち折っていきましょか。うーい。 https://t.co/c0LVgCdJwj\n",
      "29 国民人気No.1 https://t.co/0jnOV2uYcM\n",
      "30 あたちゆきのようしぇ https://t.co/YPOlOGPLpZ\n",
      "31 １００円ショップ（セリア）で見つけた来年の手帳。シマエナガが推され始めてる気がするうううう（・▴・）ﾁｮｰｳﾚｼ https://t.co/q1qH0zDure\n",
      "32 おはー。９月１日（かよう）の朝です。きょうもシマエナガがかわいいね（・▴・） #おはシマ #空飛ぶ豆大福 https://t.co/qFca3I8MwR\n",
      "33 明日から9月！\n",
      "\n",
      "やっと涼しくなってきました。と言いたかったのですが、まだまだ残暑が厳しいですね。\n",
      "\n",
      "明日も暑い予報ですので、しっかり水分補給して涼しくしてお過ごしください(^_^)\n",
      "#ジンベエザメ\n",
      "#太平洋水槽 https://t.co/ewIm22PlMs\n",
      "34 おはエナガ（･▴･）げつようのあさは #しまくじ で運だめし なにがでるかな？ https://t.co/7OQtRgo40q\n",
      "35 https://t.co/eaez3nXeZc\n",
      "36 可愛い（ヘレンドのプチプレート）に可愛い（北海道フェアリーチーズケーキ）をのせる https://t.co/1OdaRecduM\n",
      "37 RT @tamaru_inbou: 【掲載情報】朝日新聞出版 様の雑誌「秋の京都2020」にて当店をご紹介いただきました！\n",
      "スタンプと一緒に使いたい、素敵な和小物も同じ特集内でたくさん紹介されています。ぜひ、書店にてご覧ください♪\n",
      "\n",
      "「手紙を添えて、あの人へ すてきな京の贈り物…\n",
      "38 おはー。８月３０日（にちよう）の朝です。きょうもシマエナガがかわいいね（・▴・） #おはシマ #空飛ぶ豆大福 https://t.co/G4nj2Gk8lJ\n",
      "39 近所のスーパーにも置いてあったけど空っぽでした https://t.co/eGhVEZVekR\n",
      "40 当アカウントが来週発売する写真集のタイトル https://t.co/LXEQUyz1Aj\n",
      "41 おはー。８月２９日（どよう）の朝です。きょうもシマエナガがかわいいね（・▴・） #おはシマ #空飛ぶ豆大福 https://t.co/Q7EWMIAReJ\n",
      "42 ミスターがシマエナガを認知 https://t.co/OMoOjeugJn\n",
      "43 開けた瞬間キュンです https://t.co/Q78fUZL85O\n",
      "44 き、きれいや、、、 https://t.co/nzB1NDhhMm\n",
      "45 RT @tamaru_inbou: 【お知らせ】コラボセット発売！\n",
      "\n",
      "「ぼく、シマエナガ。」さんとのコラボスタンプの誕生を記念し、組み合わせやすい雪のスタンプセットを発売いたします！\n",
      "\n",
      "※セットには「コラボスタンプ」が含まれます。「コラボスタンプ」はシマエナガが枝に4羽とまって…\n",
      "46 まるくない時だってあります。\n",
      "\n",
      "#めっちゃ長い\n",
      "#モヤ\n",
      "#伸縮自在? https://t.co/4MjBUbuO7F\n",
      "47 販売元の北海道観光物産興社さんから通販できるよ。shopping@kankou-bussan.co.jpにメールおくってみてね（・▴・）\n",
      "48 これ以上に可愛い北海道土産を見たことある？「北海道フェアリーチーズケーキ 」432円（8個入） https://t.co/n6Ug5niQhb\n",
      "49 https://t.co/QY8aHrgsNo\n"
     ]
    }
   ],
   "source": [
    "for i, status in enumerate(tweepy.Cursor(api.home_timeline, count = 50).items(50)):\n",
    "    print(i,status.text)"
   ]
  },
  {
   "cell_type": "code",
   "execution_count": 8,
   "metadata": {},
   "outputs": [
    {
     "name": "stdout",
     "output_type": "stream",
     "text": [
      "0 A Drop of Kindness goes a very long way. Join my partners @vosswater &amp; I in doing our part to spread a little kindn… https://t.co/PGh84TCcQN\n",
      "1 😂💪🏾 good Lord, this era in pro wrestling (Attitude Era) was the best. Thank you to my friend and the man who’s on m… https://t.co/7Vy8aSunEf\n",
      "2 Smoothest tequila in the land! \n",
      "Enjoy, CD! Salud’ 🥃\n",
      "@Teremana https://t.co/ywLjCZ9hWm\n",
      "3 Very cool and thanks so much! \n",
      "(I wanted our brand to be fully transparent with the consumer by having all nutritio… https://t.co/agxHtqDQbK\n",
      "4 Appreciate you kickin’ ass in our @xfl2020 and I’m rooting for you in the @NFL now, big man!! \n",
      "Bring it! 👊🏾 https://t.co/bpxph95y36\n",
      "5 You’re already on the Mt Rushmore of pro wrestling commentators, so the @Teremana will enhaaaaance your performance… https://t.co/Eb7K81AI1G\n",
      "6 Bottles in the freezer — that’s my jam. Enjoy your @Teremana, my friend 🥶🥃 https://t.co/vBps5sI1EC\n",
      "7 😂👏🏾👏🏾🥃 Love it and thanks for the laugh. \n",
      "And my sense of taste is still checked out. #mahalocovid https://t.co/jNjLxStnxx\n",
      "8 Let’s chat💰, @Acorns, $7bucks &amp; Lorraine Angelakos ❤️\n",
      "Only a few days left to register your family &amp; have $7 invest… https://t.co/K60JqdR8zf\n",
      "9 The next evolution in bad ass training shoes 👟👟🔥\n",
      "Progress thru the work. \n",
      "Enjoy! https://t.co/XGnxnOevxa… https://t.co/yRwxnX3pgS\n",
      "10 Game changers 👟👟🔥\n",
      "My new @projectrock @underarmour #PR3s available NOW! \n",
      "Quality. \n",
      "Innovation. \n",
      "Durability. \n",
      "Attitu… https://t.co/EcCwuL1WuZ\n",
      "11 RT @ProjectRock: Introducing the PR3. Built for the work and tested in the Iron Paradise by @TheRock and @LindseyVonn. \n",
      "Shop the new traini…\n",
      "12 LACE ‘EM UP🔥IT'S ON! AVAILABLE NOW! \n",
      "My NEW @projectrock x @underarmour #PR3s have arrived. Next evolution of bad a… https://t.co/T8uzvwcZw9\n",
      "13 @RealKevinNash Sorry to hear that brother. Not a team we want to be on for sure. You guys stay strong too (still ha… https://t.co/3bB6TOFDFB\n",
      "14 You got ‘em early! 👏🏾\n",
      "Raise the bar! \n",
      "Enjoy our next evolution 💪🏾👟\n",
      "@ProjectRock @UnderArmour \n",
      "Drops tomorrow! \n",
      "#PR3s https://t.co/50NK1B9GEy\n",
      "15 Sheik-ee baby! All because of you 💪🏾🥃\n",
      "#jabroni #makehumble \n",
      "@the_ironsheik https://t.co/2ew9n0PL9E\n",
      "16 RT @SportsCenter: .@TheRock is keeping $7 framed in his office as the new XFL owner because that was the amount of money he had when he was…\n",
      "17 RT @ThePostGame: As he did in the 2014 documentary The Sheik, @TheRock always credited @the_ironsheik for the word \"jabroni.\"\n",
      "\n",
      "https://t.co…\n",
      "18 Wow - very cool!\n",
      "Honored have a word actually make the dictionary. \n",
      "Making my all my teachers very proud 😉🥃\n",
      "For the… https://t.co/46B3k21K62\n",
      "19 My XFL helmets arrived to my office and (holy shit!) I’m humbled and grateful at how full circle life can sometimes… https://t.co/BgVuIsVBc6\n"
     ]
    }
   ],
   "source": [
    "other_user = \"therock\"\n",
    "for i, status in enumerate(tweepy.Cursor(api.user_timeline, screen_name = other_user).items(20)):\n",
    "    print(i, status.text)"
   ]
  },
  {
   "cell_type": "code",
   "execution_count": 9,
   "metadata": {},
   "outputs": [],
   "source": [
    "def limit_handled(cursor): #in case the limit is not set to True\n",
    "    while True:\n",
    "        try:\n",
    "            yield cursor.next()\n",
    "        except tweepy.RateLimitError:\n",
    "            # send email / webhook / log\n",
    "            time.sleep(15 * 60) # 15 minutes = 15 * 60 seconds"
   ]
  },
  {
   "cell_type": "code",
   "execution_count": 12,
   "metadata": {},
   "outputs": [],
   "source": [
    "# for follower in limit_handled(tweepy.Cursor(api.followers).items()):\n",
    "#     print(follower.screen_name)"
   ]
  }
 ],
 "metadata": {
  "kernelspec": {
   "display_name": "Python 3",
   "language": "python",
   "name": "python3"
  },
  "language_info": {
   "codemirror_mode": {
    "name": "ipython",
    "version": 3
   },
   "file_extension": ".py",
   "mimetype": "text/x-python",
   "name": "python",
   "nbconvert_exporter": "python",
   "pygments_lexer": "ipython3",
   "version": "3.8.2"
  }
 },
 "nbformat": 4,
 "nbformat_minor": 4
}
