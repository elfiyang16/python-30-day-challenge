{
 "cells": [
  {
   "cell_type": "code",
   "execution_count": 3,
   "metadata": {},
   "outputs": [],
   "source": [
    "import tweepy \n",
    "import webbrowser\n",
    "import time\n",
    "import pandas as pd"
   ]
  },
  {
   "cell_type": "code",
   "execution_count": 4,
   "metadata": {},
   "outputs": [
    {
     "name": "stdout",
     "output_type": "stream",
     "text": [
      "What is the pin value? 5729510\n"
     ]
    },
    {
     "data": {
      "text/plain": [
       "('895044554688212992-UGzkKooNF5RBzjFYVD5L0STw5de8m5G',\n",
       " 'dBv1FcV1SJsrx60vuEwWxZS9mxvyzzWV6blg9v4qCpHp2')"
      ]
     },
     "execution_count": 4,
     "metadata": {},
     "output_type": "execute_result"
    }
   ],
   "source": [
    "consumer_key =\"AeUQkUTUkMwoxDkFq1uxgZImO\"\n",
    "consumer_secret = \"wod7s7HZOOmvn042Us9L42qsCGkUGPJAFRv1RCiyvgF6abNXDW\"\n",
    "callback_uri = \"oob\"\n",
    "auth = tweepy.OAuthHandler(consumer_key, consumer_secret, callback_uri)\n",
    "redirect_url = auth.get_authorization_url()\n",
    "webbrowser.open(redirect_url)\n",
    "user_pint_input = input(\"What is the pin value? \") \n",
    "auth.get_access_token(user_pint_input)"
   ]
  },
  {
   "cell_type": "code",
   "execution_count": 5,
   "metadata": {},
   "outputs": [],
   "source": [
    "api = tweepy.API(auth)"
   ]
  },
  {
   "cell_type": "code",
   "execution_count": 6,
   "metadata": {},
   "outputs": [
    {
     "data": {
      "text/plain": [
       "'elfieeeeeeeee'"
      ]
     },
     "execution_count": 6,
     "metadata": {},
     "output_type": "execute_result"
    }
   ],
   "source": [
    "me = api.me()\n",
    "me.screen_name"
   ]
  },
  {
   "cell_type": "code",
   "execution_count": 7,
   "metadata": {},
   "outputs": [],
   "source": [
    "user = api.get_user(\"code\")"
   ]
  },
  {
   "cell_type": "code",
   "execution_count": 10,
   "metadata": {},
   "outputs": [
    {
     "data": {
      "text/plain": [
       "118"
      ]
     },
     "execution_count": 10,
     "metadata": {},
     "output_type": "execute_result"
    }
   ],
   "source": [
    "user.followers_count\n",
    "user.friends_count"
   ]
  },
  {
   "cell_type": "code",
   "execution_count": 12,
   "metadata": {},
   "outputs": [],
   "source": []
  },
  {
   "cell_type": "code",
   "execution_count": 15,
   "metadata": {},
   "outputs": [
    {
     "name": "stdout",
     "output_type": "stream",
     "text": [
      "BrigitMurtaugh\n",
      "sveltejs\n",
      "Chuxel\n",
      "ahejlsberg\n"
     ]
    }
   ],
   "source": [
    "my_new_friends = []\n",
    "user_friends = user.friends() #friends of vscode \n",
    "for friend in user_friends:\n",
    "    if friend.followers_count > 300 and friend.friends_count < 300: \n",
    "        #check each followings' follwer number- big V\n",
    "        #check each doesn't follow too many people -- bot suspective\n",
    "        print(friend.screen_name)\n",
    "        my_new_friends.append(friend.screen_name)\n",
    "#       relationship_ = api.create_friendship(friend.screen_name) #follow these people\n",
    "#       to_remove = my_new_friends\n",
    "#       for username in to_remove:\n",
    "#            api.destroy_friendship(username)"
   ]
  }
 ],
 "metadata": {
  "kernelspec": {
   "display_name": "Python 3",
   "language": "python",
   "name": "python3"
  },
  "language_info": {
   "codemirror_mode": {
    "name": "ipython",
    "version": 3
   },
   "file_extension": ".py",
   "mimetype": "text/x-python",
   "name": "python",
   "nbconvert_exporter": "python",
   "pygments_lexer": "ipython3",
   "version": "3.8.2"
  }
 },
 "nbformat": 4,
 "nbformat_minor": 4
}
