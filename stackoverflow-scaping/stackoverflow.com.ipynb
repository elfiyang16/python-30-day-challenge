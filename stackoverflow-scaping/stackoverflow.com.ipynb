{
 "cells": [
  {
   "cell_type": "code",
   "execution_count": 66,
   "metadata": {},
   "outputs": [
    {
     "name": "stdout",
     "output_type": "stream",
     "text": [
      "Collecting pandas\n",
      "\u001b[?25l  Downloading https://files.pythonhosted.org/packages/f0/8e/876fbd98f712dcda93c7b6826f5ca06b3d7b1aff343e9b0b2460c463c591/pandas-1.1.2-cp38-cp38-macosx_10_9_x86_64.whl (10.6MB)\n",
      "\u001b[K     |████████████████████████████████| 10.6MB 528kB/s eta 0:00:01\n",
      "\u001b[?25hRequirement already satisfied: python-dateutil>=2.7.3 in ./venv/lib/python3.8/site-packages (from pandas) (2.8.1)\n",
      "Collecting numpy>=1.15.4 (from pandas)\n",
      "  Using cached https://files.pythonhosted.org/packages/2f/c0/09c526b4167ed4dd3bcb6d6aa2103b4b50899e8eae89acde6455d43a37e4/numpy-1.19.1-cp38-cp38-macosx_10_9_x86_64.whl\n",
      "Collecting pytz>=2017.2 (from pandas)\n",
      "  Using cached https://files.pythonhosted.org/packages/4f/a4/879454d49688e2fad93e59d7d4efda580b783c745fd2ec2a3adf87b0808d/pytz-2020.1-py2.py3-none-any.whl\n",
      "Requirement already satisfied: six>=1.5 in ./venv/lib/python3.8/site-packages (from python-dateutil>=2.7.3->pandas) (1.15.0)\n",
      "Installing collected packages: numpy, pytz, pandas\n",
      "Successfully installed numpy-1.19.1 pandas-1.1.2 pytz-2020.1\n",
      "\u001b[33mWARNING: You are using pip version 19.2.3, however version 20.2.3 is available.\n",
      "You should consider upgrading via the 'pip install --upgrade pip' command.\u001b[0m\n"
     ]
    }
   ],
   "source": [
    "# !pip install pandas"
   ]
  },
  {
   "cell_type": "code",
   "execution_count": 68,
   "metadata": {},
   "outputs": [],
   "source": [
    "import requests\n",
    "from requests_html import HTML\n",
    "import time\n",
    "import pandas as pd"
   ]
  },
  {
   "cell_type": "code",
   "execution_count": 7,
   "metadata": {},
   "outputs": [
    {
     "data": {
      "text/plain": [
       "'https://stackoverflow.com/questions/tagged/python?tab=Votes'"
      ]
     },
     "execution_count": 7,
     "metadata": {},
     "output_type": "execute_result"
    }
   ],
   "source": [
    "base_url = \"https://stackoverflow.com/questions/tagged/\"\n",
    "tag = \"python\"\n",
    "query_filter = \"Votes\"\n",
    "url = f\"{base_url}{tag}?tab={query_filter}\"\n",
    "url "
   ]
  },
  {
   "cell_type": "code",
   "execution_count": 10,
   "metadata": {},
   "outputs": [],
   "source": [
    "r = requests.get(url)\n",
    "html_str = r.text"
   ]
  },
  {
   "cell_type": "code",
   "execution_count": 11,
   "metadata": {},
   "outputs": [],
   "source": [
    "html = HTML(html = html_str)"
   ]
  },
  {
   "cell_type": "code",
   "execution_count": 14,
   "metadata": {},
   "outputs": [],
   "source": [
    "question_summaries = html.find(\".question-summary\")\n",
    "#  inspect on element to find the classes name\n",
    "# [<Element 'div' class=('question-summary',) id='question-summary-231767'>,"
   ]
  },
  {
   "cell_type": "code",
   "execution_count": 15,
   "metadata": {},
   "outputs": [
    {
     "data": {
      "text/plain": [
       "\"10476\\nvotes\\n42answers\\n2.3m views\\nWhat does the “yield” keyword do?\\nWhat is the use of the yield keyword in Python, and what does it do? For example, I'm trying to understand this code1: def _get_child_candidates(self, distance, min_dist, max_dist): if self....\\npython iterator generator yield coroutine\\nasked Oct 23 '08 at 22:21\\nAlex. S.\\n119k1515 gold badges4949 silver badges6161 bronze badges\""
      ]
     },
     "execution_count": 15,
     "metadata": {},
     "output_type": "execute_result"
    }
   ],
   "source": [
    "question_summaries[0].text\n",
    "#  looks like a column names "
   ]
  },
  {
   "cell_type": "code",
   "execution_count": 16,
   "metadata": {},
   "outputs": [],
   "source": [
    "columns = [\"votes\", \"vote_title\", \"num_answers\", \"views\", \"question\", \"short_desc\",\"tags\",'date', 'user', 'user_details']"
   ]
  },
  {
   "cell_type": "code",
   "execution_count": 19,
   "metadata": {},
   "outputs": [
    {
     "data": {
      "text/plain": [
       "['10476',\n",
       " 'votes',\n",
       " '42answers',\n",
       " '2.3m views',\n",
       " 'What does the “yield” keyword do?',\n",
       " \"What is the use of the yield keyword in Python, and what does it do? For example, I'm trying to understand this code1: def _get_child_candidates(self, distance, min_dist, max_dist): if self....\",\n",
       " 'python iterator generator yield coroutine',\n",
       " \"asked Oct 23 '08 at 22:21\",\n",
       " 'Alex. S.',\n",
       " '119k1515 gold badges4949 silver badges6161 bronze badges']"
      ]
     },
     "execution_count": 19,
     "metadata": {},
     "output_type": "execute_result"
    }
   ],
   "source": [
    "this_row = question_summaries[0].text.split(\"\\n\")\n",
    "this_row"
   ]
  },
  {
   "cell_type": "code",
   "execution_count": 21,
   "metadata": {},
   "outputs": [],
   "source": [
    "row_data = dict(zip(columns, this_row))\n",
    "#zip take 2 lists --> be turned to a dict\n",
    "# we get a header and content match now\n",
    "#  only good when two lists match in number\n",
    "# {'votes': '10476',\n",
    "#  'vote_title': 'votes',\n",
    "#  'num_answers': '42answers',\n",
    "#  'views': '2.3m views',\n",
    "#  'question': 'What does the “yield” keyword do?',\n",
    "#  'short_desc': \"What is the use of the yield keyword in Python, and what does it do? For example, I'm trying to understand this code1: def _get_child_candidates(self, distance, min_dist, max_dist): if self....\",\n",
    "#  'tags': 'python iterator generator yield coroutine'}"
   ]
  },
  {
   "cell_type": "code",
   "execution_count": 38,
   "metadata": {},
   "outputs": [
    {
     "data": {
      "text/plain": [
       "'10476'"
      ]
     },
     "execution_count": 38,
     "metadata": {},
     "output_type": "execute_result"
    }
   ],
   "source": [
    "classes_needed = ['.question-hyperlink', '.vote', '.tags']\n",
    "key_names = [\"question\", \"votes\",\"tags\"]\n",
    "this_question_element = question_summaries[0]\n",
    "this_question_element.find(\".question-hyperlink\")[0].text\n",
    "this_question_element.find(\".vote\")[0].text.replace(\"\\nvotes\", \"\")"
   ]
  },
  {
   "cell_type": "code",
   "execution_count": 49,
   "metadata": {},
   "outputs": [],
   "source": [
    "def clean_scraped_data(text, keyname = None):\n",
    "    #remove the \"votes\" keyword in vote return\n",
    "    if keyname == \"votes\":\n",
    "        return text.replace(\"\\nvotes\",\"\")\n",
    "    return text"
   ]
  },
  {
   "cell_type": "code",
   "execution_count": 52,
   "metadata": {},
   "outputs": [
    {
     "name": "stdout",
     "output_type": "stream",
     "text": [
      "What does the “yield” keyword do?\n",
      "10476\n",
      "votes\n",
      "python iterator generator yield coroutine\n",
      "What does if __name__ == “__main__”: do?\n",
      "6273\n",
      "votes\n",
      "python namespaces main python-module idioms\n",
      "Does Python have a ternary conditional operator?\n",
      "6208\n",
      "votes\n",
      "python operators ternary-operator conditional-operator\n",
      "What are metaclasses in Python?\n",
      "5842\n",
      "votes\n",
      "python oop metaclass python-datamodel\n",
      "How do I check whether a file exists without exceptions?\n",
      "5744\n",
      "votes\n",
      "python file file-exists\n",
      "How do I merge two dictionaries in a single expression in Python (taking union of dictionaries)?\n",
      "5022\n",
      "votes\n",
      "python dictionary merge\n",
      "How to call an external command?\n",
      "5008\n",
      "votes\n",
      "python shell terminal subprocess command\n",
      "How can I safely create a nested directory?\n",
      "4387\n",
      "votes\n",
      "python exception path directory operating-system\n",
      "Accessing the index in 'for' loops?\n",
      "3742\n",
      "votes\n",
      "python loops list\n",
      "Difference between staticmethod and classmethod\n",
      "3691\n",
      "votes\n",
      "python oop methods python-decorators\n",
      "Does Python have a string 'contains' substring method?\n",
      "3598\n",
      "votes\n",
      "python string substring contains\n",
      "How to make a flat list out of list of lists?\n",
      "3572\n",
      "votes\n",
      "python list multidimensional-array flatten\n",
      "How do I list all files of a directory?\n",
      "3471\n",
      "votes\n",
      "python directory\n",
      "Understanding slice notation\n",
      "3445\n",
      "votes\n",
      "python list slice iterable\n",
      "How do I sort a dictionary by value?\n",
      "3419\n",
      "votes\n",
      "python sorting dictionary\n",
      "Finding the index of an item in a list\n",
      "3303\n",
      "votes\n",
      "python list indexing\n",
      "Iterating over dictionaries using 'for' loops\n",
      "3248\n",
      "votes\n",
      "python python-2.7 dictionary\n",
      "How do I check if a list is empty?\n",
      "3233\n",
      "votes\n",
      "python list\n",
      "Using global variables in a function\n",
      "3193\n",
      "votes\n",
      "python global-variables scope\n",
      "What is the difference between Python's list methods append and extend?\n",
      "3115\n",
      "votes\n",
      "python list data-structures append extend\n",
      "How to get the current time in Python\n",
      "3004\n",
      "votes\n",
      "python datetime time\n",
      "Catch multiple exceptions in one line (except block)\n",
      "2856\n",
      "votes\n",
      "python exception exception-handling\n",
      "Difference between __str__ and __repr__?\n",
      "2807\n",
      "votes\n",
      "python magic-methods repr\n",
      "How can I make a time delay in Python? [duplicate]\n",
      "2792\n",
      "votes\n",
      "python delay sleep timedelay\n",
      "How to make a chain of function decorators?\n",
      "2790\n",
      "votes\n",
      "python decorator python-decorators\n",
      "How can I add new keys to a dictionary?\n",
      "2716\n",
      "votes\n",
      "python dictionary lookup\n",
      "How do I pass a variable by reference?\n",
      "2702\n",
      "votes\n",
      "python reference parameter-passing pass-by-reference\n",
      "Check if a given key already exists in a dictionary\n",
      "2682\n",
      "votes\n",
      "python dictionary\n",
      "“Least Astonishment” and the Mutable Default Argument\n",
      "2654\n",
      "votes\n",
      "python language-design default-parameters least-astonishment\n",
      "List changes unexpectedly after assignment. How do I clone or copy it to prevent this?\n",
      "2647\n",
      "votes\n",
      "python list copy clone\n",
      "How do I concatenate two lists in Python?\n",
      "2640\n",
      "votes\n",
      "python list concatenation\n",
      "How do I copy a file in Python?\n",
      "2628\n",
      "votes\n",
      "python file copy filesystems file-copying\n",
      "Understanding Python super() with __init__() methods [duplicate]\n",
      "2599\n",
      "votes\n",
      "python class oop inheritance super\n",
      "How can I install pip on Windows?\n",
      "2566\n",
      "votes\n",
      "python windows installation pip easy-install\n",
      "Convert bytes to a string\n",
      "2461\n",
      "votes\n",
      "python string python-3.x\n",
      "What is __init__.py for?\n",
      "2460\n",
      "votes\n",
      "python module package python-packaging\n",
      "What does ** (double star/asterisk) and * (star/asterisk) do for parameters?\n",
      "2441\n",
      "votes\n",
      "python syntax parameter-passing variadic-functions argument-unpacking\n",
      "How do you split a list into evenly sized chunks?\n",
      "2345\n",
      "votes\n",
      "python list split chunks\n",
      "Manually raising (throwing) an exception in Python\n",
      "2341\n",
      "votes\n",
      "python exception\n",
      "How do I parse a string to a float or int?\n",
      "2313\n",
      "votes\n",
      "python parsing floating-point type-conversion integer\n",
      "Find current directory and file's directory [duplicate]\n",
      "2284\n",
      "votes\n",
      "python directory\n",
      "How to delete a file or folder?\n",
      "2237\n",
      "votes\n",
      "python file-io directory delete-file\n",
      "Converting string into datetime\n",
      "2229\n",
      "votes\n",
      "python datetime\n",
      "How to access environment variable values?\n",
      "2222\n",
      "votes\n",
      "python environment-variables\n",
      "How to print colored text in Python?\n",
      "2221\n",
      "votes\n",
      "python terminal output ansi-colors\n",
      "How do I get a substring of a string in Python?\n",
      "2203\n",
      "votes\n",
      "python string substring\n",
      "Why is “1000000000000000 in range(1000000000000001)” so fast in Python 3?\n",
      "2184\n",
      "votes\n",
      "python performance python-3.x range python-internals\n",
      "How do you change the size of figures drawn with matplotlib?\n",
      "2173\n",
      "votes\n",
      "python graph matplotlib plot visualization\n",
      "How to iterate over rows in a DataFrame in Pandas\n",
      "2165\n",
      "votes\n",
      "python pandas rows dataframe\n",
      "Getting the last element of a list\n",
      "2154\n",
      "votes\n",
      "python list indexing\n"
     ]
    }
   ],
   "source": [
    "datas = []\n",
    "for q_el in question_summaries:\n",
    "    question_data = {}\n",
    "    for i, _class in enumerate(classes_needed):\n",
    "        sub_el = q_el.find(_class)[0]\n",
    "        print(sub_el.text)\n",
    "#         What does the “yield” keyword do?\n",
    "#         10476\n",
    "#         votes\n",
    "#         python iterator generator yield coroutine\n",
    "        keyname = key_names[i]\n",
    "        question_data[keyname]= clean_scraped_data(sub_el.text, keyname = keyname)\n",
    "    datas.append(question_data)\n",
    "# datas[0]\n",
    "# {'question': 'What does the “yield” keyword do?',\n",
    "#   'votes': '10476\\nvotes',\n",
    "#   'tags': 'python iterator generator yield coroutine'},"
   ]
  },
  {
   "cell_type": "code",
   "execution_count": 53,
   "metadata": {},
   "outputs": [],
   "source": [
    "def parse_tagged_page(html):#to parse any tagged page\n",
    "    question_summaries = html.find(\".question-summary\")\n",
    "    key_names = ['question', 'votes', 'tags']\n",
    "    classes_needed = ['.question-hyperlink', '.vote', '.tags']\n",
    "    datas = []\n",
    "    for q_el in question_summaries:\n",
    "        question_data = {}\n",
    "        for i, _class in enumerate(classes_needed):\n",
    "            sub_el = q_el.find(_class, first=True)\n",
    "            keyname = key_names[i]\n",
    "            question_data[keyname] = clean_scraped_data(sub_el.text, keyname=keyname)\n",
    "        datas.append(question_data)\n",
    "    return datas"
   ]
  },
  {
   "cell_type": "code",
   "execution_count": 56,
   "metadata": {},
   "outputs": [],
   "source": [
    "def extract_data_from_url(url):\n",
    "    r = requests.get(url)\n",
    "    if r.status_code not in range(200, 299):\n",
    "        return {}\n",
    "    html_str = r.text\n",
    "    html = HTML(html = html_str)\n",
    "    datas = parse_tagged_page(html)\n",
    "    return datas"
   ]
  },
  {
   "cell_type": "code",
   "execution_count": 69,
   "metadata": {},
   "outputs": [],
   "source": [
    "def scrape_tag (tag = \"javascript\", query_filter = \"Votes\", page = 1, max_pages = 10, pagesize = 25 ):\n",
    "    base_url = \"https://stackoverflow.com/questions/tagged/\"\n",
    "    datas = []\n",
    "\n",
    "    for p in range(max_pages):\n",
    "        page_num = max_pages +1\n",
    "        print(p)\n",
    "#         add a way to include pagination\n",
    "        url = f\"{base_url}{tag}?tab={query_filter}&page={page_num}&pagesize={pagesize}\"\n",
    "        datas += extract_data_from_url(url)\n",
    "        time.sleep(1.2)\n",
    "    return datas"
   ]
  },
  {
   "cell_type": "code",
   "execution_count": 70,
   "metadata": {},
   "outputs": [
    {
     "name": "stdout",
     "output_type": "stream",
     "text": [
      "0\n",
      "1\n",
      "2\n",
      "3\n",
      "4\n",
      "5\n",
      "6\n",
      "7\n",
      "8\n",
      "9\n"
     ]
    }
   ],
   "source": [
    "result = scrape_tag(tag='python')"
   ]
  },
  {
   "cell_type": "code",
   "execution_count": 71,
   "metadata": {},
   "outputs": [
    {
     "data": {
      "text/html": [
       "<div>\n",
       "<style scoped>\n",
       "    .dataframe tbody tr th:only-of-type {\n",
       "        vertical-align: middle;\n",
       "    }\n",
       "\n",
       "    .dataframe tbody tr th {\n",
       "        vertical-align: top;\n",
       "    }\n",
       "\n",
       "    .dataframe thead th {\n",
       "        text-align: right;\n",
       "    }\n",
       "</style>\n",
       "<table border=\"1\" class=\"dataframe\">\n",
       "  <thead>\n",
       "    <tr style=\"text-align: right;\">\n",
       "      <th></th>\n",
       "      <th>question</th>\n",
       "      <th>votes</th>\n",
       "      <th>tags</th>\n",
       "    </tr>\n",
       "  </thead>\n",
       "  <tbody>\n",
       "    <tr>\n",
       "      <th>0</th>\n",
       "      <td>What does the “yield” keyword do?</td>\n",
       "      <td>10476</td>\n",
       "      <td>python iterator generator yield coroutine</td>\n",
       "    </tr>\n",
       "    <tr>\n",
       "      <th>1</th>\n",
       "      <td>What does if __name__ == “__main__”: do?</td>\n",
       "      <td>6273</td>\n",
       "      <td>python namespaces main python-module idioms</td>\n",
       "    </tr>\n",
       "    <tr>\n",
       "      <th>2</th>\n",
       "      <td>Does Python have a ternary conditional operator?</td>\n",
       "      <td>6208</td>\n",
       "      <td>python operators ternary-operator conditional-...</td>\n",
       "    </tr>\n",
       "    <tr>\n",
       "      <th>3</th>\n",
       "      <td>What are metaclasses in Python?</td>\n",
       "      <td>5842</td>\n",
       "      <td>python oop metaclass python-datamodel</td>\n",
       "    </tr>\n",
       "    <tr>\n",
       "      <th>4</th>\n",
       "      <td>How do I check whether a file exists without e...</td>\n",
       "      <td>5744</td>\n",
       "      <td>python file file-exists</td>\n",
       "    </tr>\n",
       "  </tbody>\n",
       "</table>\n",
       "</div>"
      ],
      "text/plain": [
       "                                            question  votes  \\\n",
       "0                  What does the “yield” keyword do?  10476   \n",
       "1           What does if __name__ == “__main__”: do?   6273   \n",
       "2   Does Python have a ternary conditional operator?   6208   \n",
       "3                    What are metaclasses in Python?   5842   \n",
       "4  How do I check whether a file exists without e...   5744   \n",
       "\n",
       "                                                tags  \n",
       "0          python iterator generator yield coroutine  \n",
       "1        python namespaces main python-module idioms  \n",
       "2  python operators ternary-operator conditional-...  \n",
       "3              python oop metaclass python-datamodel  \n",
       "4                            python file file-exists  "
      ]
     },
     "execution_count": 71,
     "metadata": {},
     "output_type": "execute_result"
    }
   ],
   "source": [
    "df = pd.DataFrame(datas)\n",
    "df.head()"
   ]
  },
  {
   "cell_type": "code",
   "execution_count": null,
   "metadata": {},
   "outputs": [],
   "source": [
    "df.shape\n",
    "# df.to_csv(\"python.csv\", index=False)"
   ]
  }
 ],
 "metadata": {
  "kernelspec": {
   "display_name": "Python 3",
   "language": "python",
   "name": "python3"
  },
  "language_info": {
   "codemirror_mode": {
    "name": "ipython",
    "version": 3
   },
   "file_extension": ".py",
   "mimetype": "text/x-python",
   "name": "python",
   "nbconvert_exporter": "python",
   "pygments_lexer": "ipython3",
   "version": "3.8.2"
  }
 },
 "nbformat": 4,
 "nbformat_minor": 4
}
