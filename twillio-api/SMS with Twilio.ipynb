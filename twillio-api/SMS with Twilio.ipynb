{
 "cells": [
  {
   "cell_type": "markdown",
   "metadata": {},
   "source": [
    "### Step 1: Create an Account on Twillio.com\n",
    "Get $10 with our referral code by going here. You also need a working cell phone number that accepts SMS messages to verify your account.\n",
    "\n",
    "### Step 2: Get your Account Keys\n",
    "For every project you make, I suggest creating API keys for that project. This way we can turn them off at anytime (and thus prevent unwanted use) without causing distruption to other projects.\n",
    "\n",
    "Go to twilio.com/console/\n",
    "Copy the Account SID (We'll store as twilio_sid)\n",
    "Copy the Auth Token (We'll store as twilio_secret)\n",
    "We'll save these in a file called *creds.json* in this one, so go and create this file"
   ]
  },
  {
   "cell_type": "code",
   "execution_count": 4,
   "metadata": {},
   "outputs": [
    {
     "name": "stdout",
     "output_type": "stream",
     "text": [
      "What's the Twilio Account SID?········\n",
      "What's the Twilio Secret?········\n"
     ]
    }
   ],
   "source": [
    "from getpass import getpass\n",
    "import json\n",
    "\n",
    "# set to true or false to get it running\n",
    "reset_creds = True\n",
    "\n",
    "if reset_creds:\n",
    "    twilio_sid = getpass(\"What's the Twilio Account SID?\")\n",
    "    twilio_secret = getpass(\"What's the Twilio Secret?\")\n",
    "    '''\n",
    "    This will save our creds from above (blank or not) to a local file\n",
    "    named `creds.json` so we can re-use this credentials.\n",
    "    '''\n",
    "    data = {\n",
    "        \"twilio_sid\": twilio_sid,\n",
    "        \"twilio_secret\": twilio_secret\n",
    "    }\n",
    "    json_data = json.dumps(data)\n",
    "    with open('creds.json', 'w') as f:\n",
    "        f.write(json_data)"
   ]
  },
  {
   "cell_type": "markdown",
   "metadata": {},
   "source": [
    "### Step 3: Install twilio"
   ]
  },
  {
   "cell_type": "code",
   "execution_count": 7,
   "metadata": {},
   "outputs": [
    {
     "name": "stdout",
     "output_type": "stream",
     "text": [
      "Requirement already satisfied: twilio in ./venv/lib/python3.8/site-packages (6.45.1)\n",
      "Requirement already satisfied: six in ./venv/lib/python3.8/site-packages (from twilio) (1.15.0)\n",
      "Requirement already satisfied: pytz in ./venv/lib/python3.8/site-packages (from twilio) (2020.1)\n",
      "Requirement already satisfied: PyJWT>=1.4.2 in ./venv/lib/python3.8/site-packages (from twilio) (1.7.1)\n",
      "Requirement already satisfied: requests>=2.0.0 in ./venv/lib/python3.8/site-packages (from twilio) (2.24.0)\n",
      "Requirement already satisfied: urllib3!=1.25.0,!=1.25.1,<1.26,>=1.21.1 in ./venv/lib/python3.8/site-packages (from requests>=2.0.0->twilio) (1.25.10)\n",
      "Requirement already satisfied: chardet<4,>=3.0.2 in ./venv/lib/python3.8/site-packages (from requests>=2.0.0->twilio) (3.0.4)\n",
      "Requirement already satisfied: certifi>=2017.4.17 in ./venv/lib/python3.8/site-packages (from requests>=2.0.0->twilio) (2020.6.20)\n",
      "Requirement already satisfied: idna<3,>=2.5 in ./venv/lib/python3.8/site-packages (from requests>=2.0.0->twilio) (2.10)\n",
      "\u001b[33mWARNING: You are using pip version 19.2.3, however version 20.2.3 is available.\n",
      "You should consider upgrading via the 'pip install --upgrade pip' command.\u001b[0m\n"
     ]
    }
   ],
   "source": [
    "!pip install twilio"
   ]
  },
  {
   "cell_type": "code",
   "execution_count": 10,
   "metadata": {},
   "outputs": [],
   "source": [
    "twilio_sid = \"\"\n",
    "twilio_secret = \"\"\n",
    "with open(\"creds.json\", \"r\") as f:\n",
    "    raw_data = f.read()\n",
    "    cred_data = json.loads(raw_data)\n",
    "    twilio_sid = cred_data.get('twilio_sid')\n",
    "    twilio_secret = cred_data.get('twilio_secret')"
   ]
  },
  {
   "cell_type": "code",
   "execution_count": 11,
   "metadata": {},
   "outputs": [],
   "source": [
    "from twilio.rest import Client\n",
    "client = Client(twilio_sid, twilio_secret)"
   ]
  },
  {
   "cell_type": "markdown",
   "metadata": {},
   "source": [
    "### Step 5: Send Message"
   ]
  },
  {
   "cell_type": "code",
   "execution_count": 12,
   "metadata": {},
   "outputs": [],
   "source": [
    "my_number = \"+17194964543\" #??\n",
    "other_number = \"+4407422942958\" # ??\n",
    "body = \"Hello world again\"\n",
    "message_twilio = client.messages.create(\n",
    "    body=body,\n",
    "    from_=my_number,\n",
    "    to=other_number\n",
    ")"
   ]
  },
  {
   "cell_type": "code",
   "execution_count": null,
   "metadata": {},
   "outputs": [],
   "source": []
  }
 ],
 "metadata": {
  "kernelspec": {
   "display_name": "Python 3",
   "language": "python",
   "name": "python3"
  },
  "language_info": {
   "codemirror_mode": {
    "name": "ipython",
    "version": 3
   },
   "file_extension": ".py",
   "mimetype": "text/x-python",
   "name": "python",
   "nbconvert_exporter": "python",
   "pygments_lexer": "ipython3",
   "version": "3.8.2"
  }
 },
 "nbformat": 4,
 "nbformat_minor": 4
}
