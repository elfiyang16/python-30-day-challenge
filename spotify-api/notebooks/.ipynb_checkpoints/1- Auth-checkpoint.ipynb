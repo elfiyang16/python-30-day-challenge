{
 "cells": [
  {
   "cell_type": "code",
   "execution_count": 2,
   "metadata": {},
   "outputs": [
    {
     "name": "stdout",
     "output_type": "stream",
     "text": [
      "Collecting requests\n",
      "  Using cached https://files.pythonhosted.org/packages/45/1e/0c169c6a5381e241ba7404532c16a21d86ab872c9bed8bdcd4c423954103/requests-2.24.0-py2.py3-none-any.whl\n",
      "Collecting certifi>=2017.4.17 (from requests)\n",
      "  Using cached https://files.pythonhosted.org/packages/5e/c4/6c4fe722df5343c33226f0b4e0bb042e4dc13483228b4718baf286f86d87/certifi-2020.6.20-py2.py3-none-any.whl\n",
      "Collecting idna<3,>=2.5 (from requests)\n",
      "  Using cached https://files.pythonhosted.org/packages/a2/38/928ddce2273eaa564f6f50de919327bf3a00f091b5baba8dfa9460f3a8a8/idna-2.10-py2.py3-none-any.whl\n",
      "Collecting urllib3!=1.25.0,!=1.25.1,<1.26,>=1.21.1 (from requests)\n",
      "  Using cached https://files.pythonhosted.org/packages/9f/f0/a391d1463ebb1b233795cabfc0ef38d3db4442339de68f847026199e69d7/urllib3-1.25.10-py2.py3-none-any.whl\n",
      "Collecting chardet<4,>=3.0.2 (from requests)\n",
      "  Using cached https://files.pythonhosted.org/packages/bc/a9/01ffebfb562e4274b6487b4bb1ddec7ca55ec7510b22e4c51f14098443b8/chardet-3.0.4-py2.py3-none-any.whl\n",
      "Installing collected packages: certifi, idna, urllib3, chardet, requests\n",
      "Successfully installed certifi-2020.6.20 chardet-3.0.4 idna-2.10 requests-2.24.0 urllib3-1.25.10\n",
      "\u001b[33mWARNING: You are using pip version 19.2.3, however version 20.2.2 is available.\n",
      "You should consider upgrading via the 'pip install --upgrade pip' command.\u001b[0m\n"
     ]
    }
   ],
   "source": [
    "!pip install requests"
   ]
  },
  {
   "cell_type": "code",
   "execution_count": 24,
   "metadata": {},
   "outputs": [],
   "source": [
    "import base64\n",
    "import requests\n",
    "import datetime"
   ]
  },
  {
   "cell_type": "code",
   "execution_count": 6,
   "metadata": {},
   "outputs": [],
   "source": [
    "client_id = \"dbbe41f4185d426d84a51455f3eedaa7\"\n",
    "client_secret = \"54bda1ea62e44de7830f5788ca3985da\""
   ]
  },
  {
   "cell_type": "code",
   "execution_count": 7,
   "metadata": {},
   "outputs": [],
   "source": [
    " # do a look up for a token for future requests"
   ]
  },
  {
   "cell_type": "code",
   "execution_count": 10,
   "metadata": {},
   "outputs": [
    {
     "data": {
      "text/plain": [
       "str"
      ]
     },
     "execution_count": 10,
     "metadata": {},
     "output_type": "execute_result"
    }
   ],
   "source": [
    "client_creds = f\"{client_id}:{client_secret}\"\n",
    "type(client_creds)"
   ]
  },
  {
   "cell_type": "code",
   "execution_count": 17,
   "metadata": {},
   "outputs": [
    {
     "name": "stdout",
     "output_type": "stream",
     "text": [
      "b'ZGJiZTQxZjQxODVkNDI2ZDg0YTUxNDU1ZjNlZWRhYTc6NTRiZGExZWE2MmU0NGRlNzgzMGY1Nzg4Y2EzOTg1ZGE='\n"
     ]
    }
   ],
   "source": [
    "client_creds_b64 = base64.b64encode(client_creds.encode()) #encode to bytes to encode to b64 str\n",
    "print(client_creds_b64) #more secure way to pass in cred as bytes"
   ]
  },
  {
   "cell_type": "code",
   "execution_count": 22,
   "metadata": {},
   "outputs": [],
   "source": [
    "token_url = \"https://accounts.spotify.com/api/token\"\n",
    "method = \"POST\"\n",
    "token_data = {\n",
    "    \"grant_type\":\"client_credentials\"\n",
    "}\n",
    "token_headers = {\n",
    " \"Authorization\": f\"Basic {client_creds_b64.decode()}\" # <base64 encoded client_id:client_secret>\n",
    "}"
   ]
  },
  {
   "cell_type": "code",
   "execution_count": 28,
   "metadata": {},
   "outputs": [
    {
     "name": "stdout",
     "output_type": "stream",
     "text": [
      "{'access_token': 'BQAqXVSKmFgXb4-4dMZ2ikSF5nVUEWiTnrJNKojNjJIfvyAMoKtdiNU3299WdKO4ViWLwd9nBncctm2wAU8', 'token_type': 'Bearer', 'expires_in': 3600, 'scope': ''}\n"
     ]
    }
   ],
   "source": [
    "r = requests.post(token_url, data= token_data, headers = token_headers)\n",
    "# print(r.json())\n",
    "valid_request = r.status_code in range(200, 299)"
   ]
  },
  {
   "cell_type": "code",
   "execution_count": 30,
   "metadata": {},
   "outputs": [],
   "source": [
    "if valid_request:\n",
    "    token_response_data = r.json()\n",
    "    now = datetime.datetime.now()\n",
    "    access_token = token_response_data[\"access_token\"]\n",
    "    expires_in = token_response_data[\"expires_in\"]\n",
    "    expires = now + datetime.timedelta(seconds = expires_in) \n",
    "    #A timedelta object represents a duration, the difference between two dates or times\n",
    "    did_expire = expires < now #check if token expires"
   ]
  },
  {
   "cell_type": "code",
   "execution_count": null,
   "metadata": {},
   "outputs": [],
   "source": []
  }
 ],
 "metadata": {
  "kernelspec": {
   "display_name": "Python 3",
   "language": "python",
   "name": "python3"
  },
  "language_info": {
   "codemirror_mode": {
    "name": "ipython",
    "version": 3
   },
   "file_extension": ".py",
   "mimetype": "text/x-python",
   "name": "python",
   "nbconvert_exporter": "python",
   "pygments_lexer": "ipython3",
   "version": "3.8.2"
  }
 },
 "nbformat": 4,
 "nbformat_minor": 4
}
